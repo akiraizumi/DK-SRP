{
 "cells": [
  {
   "cell_type": "markdown",
   "metadata": {},
   "source": [
    "### ----------------------------------------------------------------------------------------------------------\n",
    "## 社会変革型 ライフサイエンス・ヘルスケア データサイエンティスト育成講座\n",
    "# 多変量解析 講義用資料（配布用）\n",
    "### ----------------------------------------------------------------------------------------------------------"
   ]
  },
  {
   "cell_type": "markdown",
   "metadata": {},
   "source": [
    "## 2. 統計的解析と仮説検定、検出力 "
   ]
  },
  {
   "cell_type": "code",
   "execution_count": null,
   "metadata": {},
   "outputs": [],
   "source": [
    "# 必要なライブラリのインポート\n",
    "\n",
    "import numpy as np\n",
    "import pandas as pd\n",
    "import matplotlib.pyplot as plt\n",
    "import statsmodels.api as sm\n",
    "from scipy.stats import norm, t\n",
    "%matplotlib inline"
   ]
  },
  {
   "cell_type": "code",
   "execution_count": null,
   "metadata": {},
   "outputs": [],
   "source": [
    "# サンプルサイズ計算のための関数定義\n",
    "\n",
    "def ssize(data,two_sided=True):\n",
    "    if two_sided:\n",
    "        z_alpha = norm.ppf(1-data['alpha']/2)\n",
    "    else:\n",
    "        z_alpha = norm.ppf(1-data['alpha'])\n",
    "    z_beta = norm.ppf(1-data['beta'])\n",
    "    n = np.power(data['sigma']/data['effect'],2)*np.power((z_alpha+z_beta),2)\n",
    "    return n"
   ]
  },
  {
   "cell_type": "code",
   "execution_count": null,
   "metadata": {},
   "outputs": [],
   "source": [
    "# 練習問題 (仮説検定と検出力)\n",
    "# 以下のパラメータを定義した上で、関数を使用してください。\n",
    "\n",
    "test_data = {'effect':,\n",
    "             'sigma':,\n",
    "             'alpha':,\n",
    "             'beta':\n",
    "             }"
   ]
  },
  {
   "cell_type": "markdown",
   "metadata": {},
   "source": [
    "## 3-1. 単回帰"
   ]
  },
  {
   "cell_type": "code",
   "execution_count": null,
   "metadata": {},
   "outputs": [],
   "source": [
    "# サンプル生成用関数の定義\n",
    "\n",
    "def generate_sample(params,nsample=20,xrange=[0,10]):\n",
    "    rsample = np.zeros([nsample,2])\n",
    "    for i in range(nsample):\n",
    "        err = np.random.normal(0,params['sigma'],1)\n",
    "        x = np.random.uniform(xrange[0],xrange[1],1)\n",
    "        y = params['b_1'] + params['b_2']*x + err\n",
    "        rsample[i,:] = y[0],x\n",
    "        \n",
    "    return rsample"
   ]
  },
  {
   "cell_type": "code",
   "execution_count": null,
   "metadata": {},
   "outputs": [],
   "source": [
    "# 試しにサンプルを生成してプロット\n",
    "\n",
    "params = {'b_1':3,\n",
    "          'b_2':2.5,\n",
    "          'sigma':10\n",
    "          }\n",
    "\n",
    "rsample = generate_sample(params,nsample=50)\n",
    "plt.scatter(rsample[:,1],rsample[:,0])\n",
    "plt.xlabel('x')\n",
    "plt.ylabel('y')\n",
    "plt.show()"
   ]
  },
  {
   "cell_type": "code",
   "execution_count": null,
   "metadata": {},
   "outputs": [],
   "source": [
    "# 練習問題　（単回帰）\n"
   ]
  },
  {
   "cell_type": "code",
   "execution_count": null,
   "metadata": {},
   "outputs": [],
   "source": [
    "# linear regression with statsmodels\n",
    "\n",
    "x = sm.add_constant(rsample[:,1])\n",
    "mod = sm.OLS(rsample[:,0], x)\n",
    "res = mod.fit()\n",
    "\n",
    "print(res.summary())"
   ]
  },
  {
   "cell_type": "markdown",
   "metadata": {},
   "source": [
    "## 3-2. 重回帰"
   ]
  },
  {
   "cell_type": "code",
   "execution_count": null,
   "metadata": {},
   "outputs": [],
   "source": [
    "# サンプル生成関数の定義\n",
    "\n",
    "def generate_sample_2d(params,nsample=50,xrange=[[0,10],[0,10]],collinear=False):\n",
    "    rsample = np.zeros([nsample,3])\n",
    "    for i in range(nsample):\n",
    "        err = np.random.normal(0,params['sigma'],1)\n",
    "        if collinear:\n",
    "            err_collin = np.random.normal(0,params['sigma_collin'],1)\n",
    "            x_1 = np.random.uniform(xrange[0][0],xrange[0][1],1)\n",
    "            x_2 = x_1*params['b_2_collin']+err_collin          \n",
    "        else:\n",
    "            x_1 = np.random.uniform(xrange[0][0],xrange[0][1],1)\n",
    "            x_2 = np.random.uniform(xrange[1][0],xrange[1][1],1)\n",
    "        y = params['b_1'] + params['b_2']*x_1 + params['b_3']*x_2 + err\n",
    "        rsample[i,:] = y[0],x_1,x_2\n",
    "        \n",
    "    return rsample"
   ]
  },
  {
   "cell_type": "code",
   "execution_count": null,
   "metadata": {},
   "outputs": [],
   "source": [
    "# 試しにプロット\n",
    "\n",
    "from mpl_toolkits.mplot3d import Axes3D\n",
    "\n",
    "params = {'b_1': 3,\n",
    "          'b_2': 2.5,\n",
    "          'b_3': 1.2,\n",
    "          'sigma': 1\n",
    "          }\n",
    "\n",
    "rsample = generate_sample_2d(params)\n",
    "fig = plt.figure() \n",
    "ax = fig.add_subplot(111, projection='3d')\n",
    "ax.scatter(rsample[:,1],rsample[:,2],rsample[:,0])\n",
    "plt.show()"
   ]
  },
  {
   "cell_type": "code",
   "execution_count": null,
   "metadata": {},
   "outputs": [],
   "source": [
    "# statsmodelsを使用してモデルをフィッティングします\n",
    "\n",
    "params = {'b_1': 3,\n",
    "          'b_2': 2.5,\n",
    "          'b_3': 1.2,\n",
    "          'sigma': 7\n",
    "          }\n",
    "rsample = generate_sample_2d(params,nsample=100)\n",
    "\n",
    "# 定数に相当する列をデータに付加\n",
    "x = sm.add_constant(rsample[:,1:])\n",
    "\n",
    "mod = sm.OLS(rsample[:,0], x)\n",
    "res = mod.fit()\n",
    "\n",
    "res.summary()"
   ]
  },
  {
   "cell_type": "code",
   "execution_count": null,
   "metadata": {},
   "outputs": [],
   "source": [
    "# 多重共線性ありの場合のサンプル生成\n",
    "\n",
    "params = {'b_1': 3,\n",
    "          'b_2': 2.5,\n",
    "          'b_3': 1.2,\n",
    "          'sigma': 7,\n",
    "          'sigma_collin': 1,\n",
    "          'b_2_collin': 1\n",
    "          }\n",
    "\n",
    "fig, ax = plt.subplots(1,2,figsize=[8,4],sharex=True,sharey=True)\n",
    "rsample_1 = generate_sample_2d(params)\n",
    "rsample_2 = generate_sample_2d(params,collinear=True)\n",
    "\n",
    "ax[0].scatter(rsample_1[:,1],rsample_1[:,2])\n",
    "ax[0].set_xlabel('x_1')\n",
    "ax[0].set_ylabel('x_2')\n",
    "ax[0].set_title('without collinearity')\n",
    "ax[1].scatter(rsample_2[:,1],rsample_2[:,2])\n",
    "ax[1].set_title('with collinearity')\n",
    "plt.show()"
   ]
  },
  {
   "cell_type": "code",
   "execution_count": null,
   "metadata": {},
   "outputs": [],
   "source": [
    "# 3d plot\n",
    "\n",
    "from mpl_toolkits.mplot3d import Axes3D\n",
    "\n",
    "fig = plt.figure(figsize=[10,4]) \n",
    "ax1 = fig.add_subplot(121, projection='3d')\n",
    "ax2 = fig.add_subplot(122, projection='3d')\n",
    "ax1.scatter(rsample_1[:,1],rsample_1[:,2],rsample_1[:,0])\n",
    "ax1.set_title('without collinearity')\n",
    "ax2.scatter(rsample_2[:,1],rsample_2[:,2],rsample_2[:,0])\n",
    "ax2.set_title('with collinearity')\n",
    "plt.show()"
   ]
  },
  {
   "cell_type": "code",
   "execution_count": null,
   "metadata": {},
   "outputs": [],
   "source": [
    "# 多重共線性が認められるデータに対するモデル当てはめ\n",
    "\n",
    "params = {'b_1': 3,\n",
    "          'b_2': 2.5,\n",
    "          'b_3': 1.2,\n",
    "          'sigma': 7,\n",
    "          'sigma_collin': 1,\n",
    "          'b_2_collin': 1\n",
    "          }\n",
    "\n",
    "rsample = generate_sample_2d(params,nsample=100,collinear=True)\n",
    "x = sm.add_constant(rsample[:,1:])\n",
    "mod = sm.OLS(rsample[:,0], x)\n",
    "res = mod.fit()\n",
    "\n",
    "print(res.summary())"
   ]
  },
  {
   "cell_type": "markdown",
   "metadata": {},
   "source": [
    "#### 練習問題  (重回帰)"
   ]
  },
  {
   "cell_type": "code",
   "execution_count": null,
   "metadata": {},
   "outputs": [],
   "source": [
    "# 練習問題 (重回帰)\n"
   ]
  },
  {
   "cell_type": "code",
   "execution_count": null,
   "metadata": {},
   "outputs": [],
   "source": [
    "# 分散拡大係数の計算\n",
    "\n",
    "from statsmodels.stats.outliers_influence import variance_inflation_factor\n",
    "\n",
    "params['sigma_collin'] = 1\n",
    "rsample = generate_sample_2d(params,nsample=100,collinear=True)\n",
    "vif = variance_inflation_factor(rsample[:,1:],0)\n",
    "print(vif)"
   ]
  },
  {
   "cell_type": "markdown",
   "metadata": {},
   "source": [
    "## 5. ロジスティック回帰"
   ]
  },
  {
   "cell_type": "code",
   "execution_count": null,
   "metadata": {},
   "outputs": [],
   "source": [
    "# pima indiansデータの読み込み\n",
    "\n",
    "# Jupyter Notebookのホームディレクトリに下記csvファイルを格納してください\n",
    "filename = \"pima-indians-diabetes.data.csv\"\n",
    "\n",
    "df = pd.read_csv(filename, sep=',',\n",
    "                 names=[\n",
    "                     'Pregnancies',\n",
    "                     'Glucose',\n",
    "                     'Blood Pressure',\n",
    "                     'Skin Thickness',\n",
    "                     'Insulin',\n",
    "                     'BMI',\n",
    "                     'Diabetes Pedigree Function',\n",
    "                     'Age',\n",
    "                     'Outcome'\n",
    "                 ]\n",
    "                )\n",
    "\n",
    "# 平均値による欠損値の補完 \n",
    "imputer_cols = df.columns[[1,2,3,4,5,6]]\n",
    "correct_df = df.copy()\n",
    "\n",
    "for i in imputer_cols:\n",
    "    correct_df[i] = correct_df[i].mask(df[i]==0, df[i].mean())\n",
    "\n",
    "correct_df.head()"
   ]
  },
  {
   "cell_type": "code",
   "execution_count": null,
   "metadata": {},
   "outputs": [],
   "source": [
    "# statsmodels.formulaのインポート\n",
    "\n",
    "import statsmodels.formula.api as smf"
   ]
  },
  {
   "cell_type": "code",
   "execution_count": null,
   "metadata": {},
   "outputs": [],
   "source": [
    "# 後で使用するバープロット用の関数定義\n",
    "\n",
    "def plot_category_odds(data):\n",
    "    odds_ratio = np.zeros([3,1])\n",
    "    for i in range(3):\n",
    "        odds_ratio[i] = data[2*i+1]/data[2*i]\n",
    "\n",
    "    left = np.array([1,2,3])\n",
    "    labels = [l for l in group_summary.index.levels[0]]\n",
    "    plt.bar(left,odds_ratio[:,0],tick_label=labels)\n",
    "    plt.ylabel('odds ratio')\n",
    "    plt.show()"
   ]
  },
  {
   "cell_type": "code",
   "execution_count": null,
   "metadata": {},
   "outputs": [],
   "source": [
    "# BMIデータの確認\n",
    "\n",
    "plt.hist(correct_df['BMI'],bins=20,edgecolor='k')\n",
    "plt.xlabel('BMI')\n",
    "plt.ylabel('count')\n",
    "plt.title('BMI data from Pima Indians data')\n",
    "plt.show()"
   ]
  },
  {
   "cell_type": "code",
   "execution_count": null,
   "metadata": {},
   "outputs": [],
   "source": [
    "# オッズ比の計算\n",
    "\n",
    "tmp = pd.cut(correct_df['BMI'],[0,30,100])\n",
    "a = pd.concat([tmp,correct_df['Outcome']],axis=1)\n",
    "a.groupby(['BMI','Outcome']).size()"
   ]
  },
  {
   "cell_type": "code",
   "execution_count": null,
   "metadata": {},
   "outputs": [],
   "source": [
    "# statsmodelsを使用したロジスティック回帰\n",
    "\n",
    "# BMIをカテゴリデータ化\n",
    "data_BMI_cat = pd.cut(correct_df['BMI'],[0,30,100],labels=[0,1])\n",
    "\n",
    "# Outcomeを結合\n",
    "data_BMI_cat = pd.concat([data_BMI_cat,correct_df['Outcome']],axis=1)\n",
    "\n",
    "print(data_BMI_cat.head())"
   ]
  },
  {
   "cell_type": "code",
   "execution_count": null,
   "metadata": {},
   "outputs": [],
   "source": [
    "# モデルのフィッティング\n",
    "\n",
    "# 説明変数の指定\n",
    "f = 'Outcome ~ BMI'\n",
    "logitfit = smf.logit(formula=str(f), data=data_BMI_cat).fit()\n",
    "\n",
    "print(logitfit.summary())\n",
    "\n",
    "# パラメータは対数オッズ比を表すため、expの肩に乗せることでオッズ比を算出\n",
    "print('odds ratio = ' + str(np.exp(logitfit.params[1])))\n",
    "\n",
    "# 回帰係数のp value\n",
    "print('p-value = ' + str(logitfit.pvalues[1]))"
   ]
  },
  {
   "cell_type": "code",
   "execution_count": null,
   "metadata": {},
   "outputs": [],
   "source": [
    "# BMIを連続変数のまま、説明変数として使用するモデル\n",
    "\n",
    "# BMIを説明変数として指定\n",
    "f = 'Outcome ~ BMI'\n",
    "logitfit = smf.logit(formula=str(f), data=correct_df).fit()\n",
    "\n",
    "# オッズ比を算出\n",
    "print('odds ratio = ' + str(np.exp(logitfit.params[1])))\n",
    "\n",
    "# 回帰係数のp value\n",
    "print('p-value = ' + str(logitfit.pvalues[1]))\n",
    "\n",
    "print(logitfit.summary())"
   ]
  },
  {
   "cell_type": "code",
   "execution_count": null,
   "metadata": {},
   "outputs": [],
   "source": [
    "# BMIを3カテゴリに分けて使用\n",
    "\n",
    "data_BMI_cat_3 = pd.cut(correct_df['BMI'],[0,25,30,100],labels=['normal','medium','obesity'])\n",
    "data_BMI_cat_3 = pd.concat([data_BMI_cat_3,correct_df['Outcome']],axis=1)\n",
    "group_summary = data_BMI_cat_3.groupby(['BMI','Outcome']).size()\n",
    "print(data_BMI_cat_3.head())\n",
    "\n",
    "plot_category_odds(group_summary)\n",
    "\n",
    "f = 'Outcome ~ BMI'\n",
    "logitfit = smf.logit(formula=str(f), data=data_BMI_cat_3).fit()\n",
    "\n",
    "print(logitfit.summary())"
   ]
  },
  {
   "cell_type": "code",
   "execution_count": null,
   "metadata": {},
   "outputs": [],
   "source": [
    "# sample generation関数の定義\n",
    "\n",
    "def generate_sample_logit_2d(params,nsample=50,xrange=[[0,10],[0,10]],collinear=False):\n",
    "    rsample = np.zeros([nsample,3])\n",
    "    for i in range(nsample):\n",
    "        threshold = np.random.rand()\n",
    "        if collinear:\n",
    "            err_collin = np.random.normal(0,params['sigma_collin'],1)\n",
    "            x_2 = np.random.uniform(xrange[1][0],xrange[1][1],1)\n",
    "            x_1 = x_2*params['b_collin']+err_collin\n",
    "        else:\n",
    "            x_1 = np.random.uniform(xrange[0][0],xrange[0][1],1)\n",
    "            x_2 = np.random.uniform(xrange[1][0],xrange[1][1],1)\n",
    "            \n",
    "        t = params['b_1'] + params['b_2']*x_1 + params['b_3']*x_2\n",
    "        p = 1/(1+np.exp(-t))\n",
    "        if p>=threshold: y=1 \n",
    "        else: y=0\n",
    "                    \n",
    "        rsample[i,:] = y,x_1,x_2  \n",
    "    out = pd.DataFrame(rsample)\n",
    "    out.columns = ['y','x_1','x_2']\n",
    "    return out"
   ]
  },
  {
   "cell_type": "code",
   "execution_count": null,
   "metadata": {},
   "outputs": [],
   "source": [
    "# 可視化のための関数定義\n",
    "\n",
    "def plot_scatter(df_pos,df_neg,cols=['x_1','x_2'],dsize=10):\n",
    "    plt.scatter(df_pos[cols[0]],df_pos[cols[1]],\n",
    "                c='orange',\n",
    "                s=dsize,\n",
    "                label='positive',\n",
    "               )\n",
    "    plt.scatter(df_neg[cols[0]],df_neg[cols[1]],\n",
    "                c='blue',\n",
    "                s=dsize,\n",
    "                label='negative',\n",
    "                alpha=0.3, \n",
    "               )\n",
    "\n",
    "    plt.xlabel(cols[0])\n",
    "    plt.ylabel(cols[1])\n",
    "    plt.legend()\n",
    "    \n",
    "    \n",
    "def plot_bar(df_pos,df_neg,cols=['x_1','x_2']):\n",
    "    fig, ax = plt.subplots(1,len(cols))\n",
    "    for i,col in enumerate(cols):\n",
    "        ax[i].bar([1,2],[df_neg[col].mean(),df_pos[col].mean()],tick_label=['neg','pos'])\n",
    "        ax[i].set_title(col)\n",
    "    plt.show()\n",
    "    \n",
    "    \n",
    "def plot_scatter_heat(df_pos,df_neg,res,cols=['x_1','x_2'],dsize=10,interaction=False):\n",
    "    min_x1 = np.min([np.min(df_pos[cols[0]]),np.min(df_neg[cols[0]])])\n",
    "    max_x1 = np.max([np.max(df_pos[cols[0]]),np.max(df_neg[cols[0]])])\n",
    "    min_x2 = np.min([np.min(df_pos[cols[1]]),np.min(df_neg[cols[1]])])\n",
    "    max_x2 = np.max([np.max(df_pos[cols[1]]),np.max(df_neg[cols[1]])])\n",
    "                     \n",
    "    x1 = np.linspace(min_x1,max_x1,50)\n",
    "    x2 = np.linspace(min_x2,max_x2,50)\n",
    "    \n",
    "    prediction = np.zeros([50,50])\n",
    "    for i in range(50):\n",
    "        for j in range(50):\n",
    "            if interaction:\n",
    "                prediction[i,j] = res.predict({'x_1':x1[i],'x_2':x2[j]})[0]\n",
    "            else:\n",
    "                prediction[i,j] = res.predict([1,x1[i],x2[j]])[0]\n",
    "            \n",
    "    extent = [min_x1, max_x1, min_x2, max_x2]\n",
    "\n",
    "    fig = plt.figure(figsize=[8,8])\n",
    "    ax = fig.add_subplot(1,1,1)\n",
    "\n",
    "    plot_scatter(df_pos,df_neg,dsize=15)\n",
    "\n",
    "    im = ax.imshow(prediction.T,\n",
    "                   extent=extent,\n",
    "                   origin='lower',\n",
    "                   cmap='pink'\n",
    "                  )\n",
    "    ax.set_xlabel('x_1')\n",
    "    ax.set_ylabel('x_2')\n",
    "    plt.show()"
   ]
  },
  {
   "cell_type": "code",
   "execution_count": null,
   "metadata": {},
   "outputs": [],
   "source": [
    "# サンプル生成→可視化\n",
    "\n",
    "params = {'b_1': -3,\n",
    "          'b_2': 0.01,\n",
    "          'b_3': 1,\n",
    "          'b_collin': 1,\n",
    "          'sigma_collin': 4}\n",
    "\n",
    "rsample = generate_sample_logit_2d(params,nsample=100,collinear=True)\n",
    "rsample_pos = rsample[rsample['y']==1]\n",
    "rsample_neg = rsample[rsample['y']==0]\n",
    "\n",
    "plot_scatter(rsample_pos,rsample_neg)\n",
    "plot_bar(rsample_pos,rsample_neg)"
   ]
  },
  {
   "cell_type": "code",
   "execution_count": null,
   "metadata": {},
   "outputs": [],
   "source": [
    "# モデルによるフィッティング\n",
    "\n",
    "X = sm.add_constant(rsample[['x_1','x_2']])\n",
    "logit_mod = sm.Logit(rsample['y'], X)\n",
    "logit_res = logit_mod.fit(disp=0)\n",
    "\n",
    "print(logit_res.summary())"
   ]
  },
  {
   "cell_type": "code",
   "execution_count": null,
   "metadata": {},
   "outputs": [],
   "source": [
    "# 結果の可視化\n",
    "\n",
    "plot_scatter_heat(rsample_pos,rsample_neg,logit_res)"
   ]
  },
  {
   "cell_type": "markdown",
   "metadata": {},
   "source": [
    "#### 練習問題 (ロジスティックモデル)"
   ]
  },
  {
   "cell_type": "code",
   "execution_count": null,
   "metadata": {},
   "outputs": [],
   "source": [
    "# 練習問題 (ロジスティックモデル)\n"
   ]
  },
  {
   "cell_type": "code",
   "execution_count": null,
   "metadata": {},
   "outputs": [],
   "source": [
    "# 交互作用を仮定しないロジスティックモデルによるフィッティング\n",
    "\n",
    "f = 'y ~ x_1+x_2'\n",
    "logitfit = smf.logit(formula = str(f), data = rsample).fit()\n",
    "\n",
    "print(logitfit.summary())"
   ]
  },
  {
   "cell_type": "code",
   "execution_count": null,
   "metadata": {},
   "outputs": [],
   "source": [
    "# 結果の可視化\n",
    "\n",
    "plot_scatter_heat(rsample_pos,rsample_neg,logitfit,interaction=True)"
   ]
  },
  {
   "cell_type": "code",
   "execution_count": null,
   "metadata": {},
   "outputs": [],
   "source": [
    "# 交互作用を仮定したロジスティックモデルによるフィッティング\n",
    "\n",
    "f = 'y ~ x_1*x_2'\n",
    "logitfit = smf.logit(formula = str(f), data = rsample).fit()\n",
    "\n",
    "print(logitfit.summary())"
   ]
  },
  {
   "cell_type": "code",
   "execution_count": null,
   "metadata": {
    "scrolled": false
   },
   "outputs": [],
   "source": [
    "# 結果の可視化\n",
    "\n",
    "plot_scatter_heat(rsample_pos,rsample_neg,logitfit,interaction=True)"
   ]
  },
  {
   "cell_type": "markdown",
   "metadata": {},
   "source": [
    "## 6. 生存分析"
   ]
  },
  {
   "cell_type": "code",
   "execution_count": null,
   "metadata": {},
   "outputs": [],
   "source": [
    "# データとライブラリの準備\n",
    "\n",
    "from lifelines import datasets, KaplanMeierFitter\n",
    "from lifelines.plotting import plot_lifetimes\n",
    "\n",
    "gbsg2_data = datasets.load_gbsg2()\n",
    "gbsg2_data.head()"
   ]
  },
  {
   "cell_type": "markdown",
   "metadata": {},
   "source": [
    "## German Breast Cancer Study Group 2\n",
    "contains the observations of 686 women  \n",
    "http://ugrad.stat.ubc.ca/R/library/ipred/html/GBSG2.html\n",
    "\n",
    "| column name | variables |\n",
    "|:---------|:----------|\n",
    "| horTh | hormonal therapy, a factor at two levels no and yes |\n",
    "| age | of the patients in years |\n",
    "| menostat | menopausal status, a factor at two levels pre (premenopausal) and post (postmenopausal) |\n",
    "| tsize | tumor size (in mm) |\n",
    "| tgrade | tumor grade, a ordered factor at levels I < II < III |\n",
    "| pnodes | number of positive nodes |\n",
    "| progrec | progesterone receptor (in fmol) |\n",
    "| estrec | estrogen receptor (in fmol) |\n",
    "| time | recurrence free survival time (in days) | \n",
    "| cens | censoring indicator (0- censored, 1- event) | "
   ]
  },
  {
   "cell_type": "code",
   "execution_count": null,
   "metadata": {},
   "outputs": [],
   "source": [
    "# timeデータの可視化\n",
    "\n",
    "time = gbsg2_data['time']\n",
    "event = gbsg2_data['cens']\n",
    "\n",
    "time_sorted = time.sort_values().values\n",
    "plot_lifetimes(time_sorted[:50], event_observed=event[:50])\n",
    "plt.xlabel('time (days)')\n",
    "plt.show()"
   ]
  },
  {
   "cell_type": "code",
   "execution_count": null,
   "metadata": {},
   "outputs": [],
   "source": [
    "# Kaplan-meier曲線の描画\n",
    "\n",
    "kmf = KaplanMeierFitter()\n",
    "kmf.fit(time, event_observed=event)\n",
    "\n",
    "kmf.plot(ci_show=False)\n",
    "plt.title('Survival function')\n",
    "plt.xlabel('time (days)')\n",
    "plt.show()"
   ]
  },
  {
   "cell_type": "code",
   "execution_count": null,
   "metadata": {},
   "outputs": [],
   "source": [
    "# ホルモン療法の有無で比較\n",
    "\n",
    "ax = plt.subplot(111)\n",
    "\n",
    "therapy = (gbsg2_data[\"horTh\"] == \"yes\")\n",
    "\n",
    "kmf.fit(time[therapy], event_observed=event[therapy], label=\"with hormonal therapy\")\n",
    "kmf.plot(ax=ax,ci_show=False)\n",
    "kmf.fit(time[~therapy], event_observed=event[~therapy], label=\"No therapy\")\n",
    "kmf.plot(ax=ax,ci_show=False)\n",
    "\n",
    "plt.ylim(0, 1)\n",
    "plt.xlabel('time (days)')\n",
    "plt.title(\"Survival time in GBSG2 data\")\n",
    "plt.show()"
   ]
  },
  {
   "cell_type": "code",
   "execution_count": null,
   "metadata": {},
   "outputs": [],
   "source": [
    "# log-rank検定\n",
    "\n",
    "from lifelines.statistics import logrank_test\n",
    "\n",
    "results = logrank_test(time[therapy], time[~therapy], event[therapy], event[~therapy], alpha=.99)\n",
    "results.print_summary()"
   ]
  },
  {
   "cell_type": "code",
   "execution_count": null,
   "metadata": {},
   "outputs": [],
   "source": [
    "# cox model\n",
    "\n",
    "from lifelines import CoxPHFitter\n",
    "\n",
    "cph = CoxPHFitter()\n",
    "gbsg2_data_dm = pd.get_dummies(gbsg2_data,columns=['horTh','menostat','tgrade'],drop_first=True)\n",
    "cph.fit(gbsg2_data_dm, duration_col='time', event_col='cens', show_progress=True)\n",
    "cph.print_summary()\n",
    "cph.plot()"
   ]
  }
 ],
 "metadata": {
  "kernelspec": {
   "display_name": "Python 3",
   "language": "python",
   "name": "python3"
  },
  "language_info": {
   "codemirror_mode": {
    "name": "ipython",
    "version": 3
   },
   "file_extension": ".py",
   "mimetype": "text/x-python",
   "name": "python",
   "nbconvert_exporter": "python",
   "pygments_lexer": "ipython3",
   "version": "3.7.0"
  }
 },
 "nbformat": 4,
 "nbformat_minor": 2
}
