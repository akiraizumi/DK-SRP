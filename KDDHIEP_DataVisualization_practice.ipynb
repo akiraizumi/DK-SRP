{
  "nbformat": 4,
  "nbformat_minor": 0,
  "metadata": {
    "colab": {
      "name": "KDDHIEP_DataVisualization_practice.ipynb",
      "version": "0.3.2",
      "provenance": [],
      "private_outputs": true,
      "collapsed_sections": []
    },
    "kernelspec": {
      "name": "python3",
      "display_name": "Python 3"
    }
  },
  "cells": [
    {
      "cell_type": "markdown",
      "metadata": {
        "id": "OzjEEwRP_Wp5",
        "colab_type": "text"
      },
      "source": [
        "### ----------------------------------------------------------------------------------------------------------\n",
        "# 可視化 演習\n",
        "###京都大学 社会変革型 医療データサイエンティスト育成プログラム(KD DHIEP Program)\n",
        "### Ver0.7(β版) 2019/6/8 Akira Izumi\n",
        "### ----------------------------------------------------------------------------------------------------------"
      ]
    },
    {
      "cell_type": "markdown",
      "metadata": {
        "id": "rn6NTXByBW1G",
        "colab_type": "text"
      },
      "source": [
        "#データのダウンロード\n",
        "## ■ピマインディアンの糖尿病データ\n",
        "https://github.com/niharikagulati/diabetesprediction/blob/master/diabetes.csv\n",
        "\n",
        "###遷移先の画面で「Row」ボタンを押して、「別名で保存」でデータを保存\n",
        "\n"
      ]
    },
    {
      "cell_type": "markdown",
      "metadata": {
        "id": "dDoP-YyDXSmq",
        "colab_type": "text"
      },
      "source": [
        "# 0.演習準備"
      ]
    },
    {
      "cell_type": "code",
      "metadata": {
        "id": "5H2v492d_UmT",
        "colab_type": "code",
        "colab": {}
      },
      "source": [
        "#0-1.環境準備\n",
        "\n",
        "import pandas as pd\n",
        "import matplotlib.pyplot as plt\n",
        "import seaborn as sns\n",
        "import numpy as np\n",
        "import io"
      ],
      "execution_count": 0,
      "outputs": []
    },
    {
      "cell_type": "code",
      "metadata": {
        "id": "-oZ6knWzArL-",
        "colab_type": "code",
        "colab": {}
      },
      "source": [
        "#0-2.Colaboratoryファイルアップロード\n",
        "\n",
        "from google.colab import files\n",
        "uploaded = files.upload()\n",
        "df = pd.read_csv(io.StringIO(uploaded['diabetes.csv'].decode('utf-8')), header=0)\n",
        "df.head()"
      ],
      "execution_count": 0,
      "outputs": []
    },
    {
      "cell_type": "code",
      "metadata": {
        "id": "jExF1_flgnMF",
        "colab_type": "code",
        "colab": {}
      },
      "source": [
        "# 0-2.jupyter用\n",
        "\n",
        "# filename = \"diabetes.csv\"\n",
        "# df = pd.read_csv(filename, sep=',' )\n",
        "\n",
        "# df.head()"
      ],
      "execution_count": 0,
      "outputs": []
    },
    {
      "cell_type": "markdown",
      "metadata": {
        "id": "pWqM1ikqF_PT",
        "colab_type": "text"
      },
      "source": [
        "#データの内容\n",
        "\n",
        "| column # | 日本語 |variables |\n",
        "|:---------|:----------|:----------|\n",
        "| Pregnancies | 妊娠回数 | Number of times pregnant |\n",
        "| Glucose | 経口耐糖能検査に於ける血清血糖値 | Plasma glucose concentration a 2 hours in an oral glucose tolerance test [mg/dL] |\n",
        "| BloodPressure | 拡張期血圧 |  Diastolic blood pressure [mm/Hg] |\n",
        "| SkinThickness |三頭筋皮下脂肪厚（mm）|  Triceps skins fold thickness [mm] |\n",
        "| Insulin | インシュリン値 | 2-hour serum insulin [mu U/ml] |\n",
        "| BMI | 体格指数 |  Body Mass Index |\n",
        "| DiabetesPedigreeFunction| 糖尿病家系関数 |  Diabetes pedigree function |\n",
        "| Age| 年齢 | Age [years] |\n",
        "|Outcome | 糖尿病の有無 | Outcome:  Class Variable {0, 1} where '1' denotes patient having diabetes | "
      ]
    },
    {
      "cell_type": "markdown",
      "metadata": {
        "id": "itQHTfvbfXaD",
        "colab_type": "text"
      },
      "source": [
        "# 演習１"
      ]
    },
    {
      "cell_type": "code",
      "metadata": {
        "id": "Jkq8S3ZVEpYi",
        "colab_type": "code",
        "colab": {}
      },
      "source": [
        "# 1-1．データの概要を把握\n",
        "\n",
        "#データの行数・列数を見る\n",
        "df.@@"
      ],
      "execution_count": 0,
      "outputs": []
    },
    {
      "cell_type": "code",
      "metadata": {
        "id": "WyqPjupZHk0O",
        "colab_type": "code",
        "colab": {}
      },
      "source": [
        "#1.2データの情報を見る\n",
        "df.@@"
      ],
      "execution_count": 0,
      "outputs": []
    },
    {
      "cell_type": "code",
      "metadata": {
        "id": "TJeaOb3vPh0t",
        "colab_type": "code",
        "colab": {}
      },
      "source": [
        "#1-3.データの要約統計量を見る\n",
        "df.@@"
      ],
      "execution_count": 0,
      "outputs": []
    },
    {
      "cell_type": "code",
      "metadata": {
        "id": "8aCd-Gi3L0S3",
        "colab_type": "code",
        "colab": {}
      },
      "source": [
        "#1-4.データの欠損値を見る別の方法\n",
        "\n",
        "df.isnull().sum(axis=0)\n",
        "\n",
        "# 各列にNullが何個あるか確認します。\n",
        "# メソッドisnullは、各要素が欠損値(NaN)であればTrue, そうでなければFalseを出力します\n",
        "# メソッドsumは、値の合計を出力します。オプションのaxis=0で行の合計、axis=1で列の合計を出力します\n",
        "# また、Trueは1、Falseは0と等価であることに注意してください\n",
        "# 結果から、欠損値はNaN以外で表現されていることが分かります"
      ],
      "execution_count": 0,
      "outputs": []
    },
    {
      "cell_type": "code",
      "metadata": {
        "id": "csR4Nng7Ncal",
        "colab_type": "code",
        "colab": {}
      },
      "source": [
        "#1-5.データ・セット全体の「０」の個数を確認\n",
        "(@@).sum(axis=0)"
      ],
      "execution_count": 0,
      "outputs": []
    },
    {
      "cell_type": "code",
      "metadata": {
        "id": "H7D7BvjjUjB1",
        "colab_type": "code",
        "colab": {}
      },
      "source": [
        "#1-6.「0」が不適切な列の個数を確認\n",
        "\n",
        "#入力されて不適切な列を列挙(Glucose、BloodPressure、SkinThickness、Insulin、BMI)\n",
        "imputer_cols = @@\n",
        "\n",
        "# 各列において、0の個数を確認します\n",
        "(df[imputer_cols] == 0).sum(axis=0)"
      ],
      "execution_count": 0,
      "outputs": []
    },
    {
      "cell_type": "code",
      "metadata": {
        "id": "VJCoJiyPbd7l",
        "colab_type": "code",
        "colab": {}
      },
      "source": [
        "#1-7.平均値による欠損値の補完 \n",
        "\n",
        "correct_df = df.copy()\n",
        "for i in imputer_cols:\n",
        "    correct_df[i] = correct_df[i].mask(df[i]==0, df[i].mean())\n",
        "\n",
        "correct_df.head()"
      ],
      "execution_count": 0,
      "outputs": []
    },
    {
      "cell_type": "code",
      "metadata": {
        "id": "A0hYkBg8f7K_",
        "colab_type": "code",
        "colab": {}
      },
      "source": [
        "#1-8. 比較用\n",
        "df.@@"
      ],
      "execution_count": 0,
      "outputs": []
    },
    {
      "cell_type": "code",
      "metadata": {
        "id": "I9GM6JjsbtWQ",
        "colab_type": "code",
        "colab": {}
      },
      "source": [
        "#1-9. 各列において、0の個数を再確認します\n",
        "(correct_df[imputer_cols] == 0).sum(axis=0)"
      ],
      "execution_count": 0,
      "outputs": []
    },
    {
      "cell_type": "code",
      "metadata": {
        "id": "paqyZeWmOSF6",
        "colab_type": "code",
        "colab": {}
      },
      "source": [
        "#1-10. アウトカムごとに基本統計量の違いを見ます\n",
        "\n",
        "correct_df_group_describe = correct_df.groupby('@@').describe()\n",
        "correct_df_group_describe\n"
      ],
      "execution_count": 0,
      "outputs": []
    },
    {
      "cell_type": "code",
      "metadata": {
        "id": "OppzDcD0QwO0",
        "colab_type": "code",
        "colab": {}
      },
      "source": [
        "#1-11. 変数ごとにグループにまとめて表示します\n",
        "\n",
        "for col in correct_df.columns[:-1]:\n",
        "     print(col + \":\\n\" + str(correct_df_group_describe[col].T) + \"\\n\") "
      ],
      "execution_count": 0,
      "outputs": []
    },
    {
      "cell_type": "code",
      "metadata": {
        "id": "6Pei_s6WRmeL",
        "colab_type": "code",
        "colab": {}
      },
      "source": [
        "#1-12. 平均だけグループにまとめて表示します\n",
        "\n",
        "correct_df_group_mean = correct_df.groupby('Outcome').@@\n",
        "correct_df_group_mean.T\n"
      ],
      "execution_count": 0,
      "outputs": []
    },
    {
      "cell_type": "code",
      "metadata": {
        "id": "tSLtc69vj2sB",
        "colab_type": "code",
        "colab": {}
      },
      "source": [
        "#1-12. 平均だけグループにまとめて表示します\n",
        "\n",
        "sns.pairplot(correct_df, hue = 'Outcome', diag_kind='hist', height= 1.8)"
      ],
      "execution_count": 0,
      "outputs": []
    },
    {
      "cell_type": "markdown",
      "metadata": {
        "id": "WmQtYv_ziIIt",
        "colab_type": "text"
      },
      "source": [
        "# 演習２"
      ]
    },
    {
      "cell_type": "code",
      "metadata": {
        "id": "AAaQpqON7ts_",
        "colab_type": "code",
        "colab": {}
      },
      "source": [
        "#2-1.簡単なプロット\n",
        "data = np.arange(10)\n",
        "\n",
        "# plt.figure() -> 明示的に宣言する必要はない\n",
        "plt.figure(figsize=[6,4])\n",
        "plt.plot(data)             # プロット\n",
        "plt.xlabel('x軸です')            # x軸ラベル\n",
        "plt.title('testグラフ')          # タイトル\n",
        "plt.legend(['data'])       # レジェンド。plt.legend('data')ではないことに留意\n",
        "plt.show()"
      ],
      "execution_count": 0,
      "outputs": []
    },
    {
      "cell_type": "code",
      "metadata": {
        "id": "hwA-ax1R8mbb",
        "colab_type": "code",
        "colab": {}
      },
      "source": [
        "#2-2.サブプロット\n",
        "\n",
        "fig = plt.figure()\n",
        "ax1 = fig.add_subplot(1,1,1)\n",
        "\n",
        "\n",
        "ax1.plot(data)\n",
        "plt.show()"
      ],
      "execution_count": 0,
      "outputs": []
    },
    {
      "cell_type": "code",
      "metadata": {
        "id": "cKKARva4Qw_4",
        "colab_type": "code",
        "colab": {}
      },
      "source": [
        "#2-3.ヒストグラムの作成\n",
        "\n",
        "# ageデータを使用して、ヒストグラムを作成します\n"
      ],
      "execution_count": 0,
      "outputs": []
    },
    {
      "cell_type": "code",
      "metadata": {
        "id": "qEOCFDHqSS5t",
        "colab_type": "code",
        "colab": {}
      },
      "source": [
        "# 2-4.ビジュアルの調整\n",
        "\n",
        "bins = np.linspace(21,81,20)\n",
        "\n",
        "plt.hist(data_age,\n",
        "         bins=bins,         # bin widthの調整\n",
        "         color='gray',    # 色の調整\n",
        "         edgecolor='black'  # 枠線の調整\n",
        "        ) \n",
        "plt.xlabel('age')\n",
        "plt.ylabel('count')\n",
        "plt.show()"
      ],
      "execution_count": 0,
      "outputs": []
    },
    {
      "cell_type": "code",
      "metadata": {
        "id": "CVC6zNrvSgGK",
        "colab_type": "code",
        "colab": {}
      },
      "source": [
        "#2-5.outcome毎のヒストグラム\n",
        "\n",
        "data_age_pos = correct_df[correct_df['Outcome']==1]['Age']\n",
        "data_age_neg = correct_df[correct_df['Outcome']==0]['Age']\n",
        "\n",
        "fig = plt.figure(figsize=[15,5])\n",
        "ax1 = fig.add_subplot(1,3,1)\n",
        "ax2 = fig.add_subplot(1,3,2)\n",
        "ax3 = fig.add_subplot(1,3,3)\n",
        "\n",
        "ax1.hist(data_age,bins=bins, color='gray', edgecolor='black')\n",
        "ax2.hist(data_age_neg,bins=bins, color='blue', edgecolor='black')\n",
        "ax3.hist(data_age_pos,bins=bins, color='orange', edgecolor='black')\n",
        "\n",
        "\n",
        "ax.set_title('ALL')\n",
        "ax2.set_title('Negative')\n",
        "ax3.set_title('Positive')\n",
        "\n",
        "ax1.set_xlabel('age')\n",
        "ax1.set_ylabel('count')\n",
        "\n",
        "# 分布曲線による可視化\n",
        "# seabornを使用すると楽に描けるので、ここではseabornを使用しますplt.show()"
      ],
      "execution_count": 0,
      "outputs": []
    },
    {
      "cell_type": "code",
      "metadata": {
        "id": "H7Q3EfUYTHwh",
        "colab_type": "code",
        "colab": {}
      },
      "source": [
        "#2-6.分布曲線による可視化\n",
        "\n",
        "# seabornを使用すると分布が楽に描けるので、ここではseabornを使用します\n",
        "#サブプロットも少し効率的な書き方をしてみますがやっている事は上と同じです\n",
        "fig,ax = plt.subplots(1,3,figsize=(15,5))\n",
        "\n",
        "sns.distplot(data_age,ax=ax[0],color='gray',bins=bins)\n",
        "sns.distplot(data_age_pos,ax=ax[1], color='orange',bins=bins)\n",
        "sns.distplot(data_age_neg,ax=ax[2], color='blue' ,bins=bins)\n",
        "\n",
        "plt.show()"
      ],
      "execution_count": 0,
      "outputs": []
    },
    {
      "cell_type": "code",
      "metadata": {
        "id": "XZ1ktu5Qm-lJ",
        "colab_type": "code",
        "colab": {}
      },
      "source": [
        "#2-7（参考）.ヒストグラムを並べる\n",
        "\n",
        "fig, ax = plt.subplots(1,1,figsize=(15,5))\n",
        "ax.hist([data_age,data_age_neg,data_age_pos],bins=bins, color=['gray', 'blue', 'orange'],edgecolor='black',label=['ALL','Positive','Negative'])\n",
        "ax.legend()\n",
        "plt.show()"
      ],
      "execution_count": 0,
      "outputs": []
    },
    {
      "cell_type": "code",
      "metadata": {
        "id": "OFTJiJhcnED8",
        "colab_type": "code",
        "colab": {}
      },
      "source": [
        "#2-8.BMIデータを分割し、カウントします\n",
        "\n",
        "#ここでは、WHOでは国際的な基準で30以上が肥満のため、30で分けました。\n",
        "data_BMI = correct_df['BMI']\n",
        "normal = len(data_BMI[data_BMI<30])\n",
        "obesity = len(data_BMI[data_BMI>=30])\n",
        "\n",
        "print('normal:',normal, 'obesity:',obesity, normal + obesity)"
      ],
      "execution_count": 0,
      "outputs": []
    },
    {
      "cell_type": "code",
      "metadata": {
        "id": "BdYHzvqkOSJX",
        "colab_type": "code",
        "colab": {}
      },
      "source": [
        "#2-9.円グラフをプロットします\n",
        "\n",
        "@@,\n",
        "        labels=['BMI<30','BMI>=30'], # ラベルの指定\n",
        "        startangle=90,               # 開始点を12時の方向に合わせる\n",
        "        counterclock=False,         # なぜかdefaultではTrueになっている\n",
        "        autopct=\"%1.1f%%\",\n",
        "       )\n",
        "plt.title('Percentages of obesity in pima indians')\n",
        "\n",
        "# 円グラフがつぶれるのを防ぐ\n",
        "# グラフの形を正方形にして円が楕円になるのを防ぐ。\n",
        "plt.axis('equal')\n",
        "\n",
        "plt.show()"
      ],
      "execution_count": 0,
      "outputs": []
    },
    {
      "cell_type": "code",
      "metadata": {
        "id": "fr2MdMJtOSX1",
        "colab_type": "code",
        "colab": {}
      },
      "source": [
        "#2-10.Outcome毎に円グラフを作成\n",
        "\n",
        "df_pos = correct_df[correct_df['Outcome']==1]\n",
        "df_neg = correct_df[correct_df['Outcome']==0]\n",
        "\n",
        "normal_pos = df_pos[df_pos['BMI']<30].shape[0]\n",
        "obesity_pos = df_pos[df_pos['BMI']>=30].shape[0]\n",
        "\n",
        "normal_neg = df_neg[df_neg['BMI']<30].shape[0]\n",
        "obesity_neg = df_neg[df_neg['BMI']>=30].shape[0]\n",
        "\n",
        "print('Positive:',normal_pos,obesity_pos,'\\t', 'Negative:',normal_neg, obesity_neg)\n",
        "\n",
        "fig = plt.figure(figsize=(10,5))\n",
        "ax1 = fig.add_subplot(1,2,1)\n",
        "ax2 = fig.add_subplot(1,2,2)\n",
        "\n",
        "# Outcomeがpositive\n",
        "ax1.pie([normal_pos,obesity_pos],\n",
        "              labels=['BMI<30','BMI>=30'],\n",
        "              startangle=90, \n",
        "              counterclock=False,          \n",
        "              autopct=\"%1.1f%%\",\n",
        "              )\n",
        "ax1.set_title('Positive')\n",
        "ax1.axis('equal')\n",
        "\n",
        "# Outcomeがnegative\n",
        "ax2.pie([normal_neg,obesity_neg],\n",
        "              startangle=90, \n",
        "              counterclock=False,          \n",
        "              autopct=\"%1.1f%%\",\n",
        "              )\n",
        "ax2.set_title('Negative')\n",
        "ax2.axis('equal')\n",
        "\n",
        "plt.show()"
      ],
      "execution_count": 0,
      "outputs": []
    },
    {
      "cell_type": "code",
      "metadata": {
        "id": "dSVvOGj2OSkZ",
        "colab_type": "code",
        "colab": {}
      },
      "source": [
        "#2-11.AgeとBMIの関係をプロット\n",
        "\n",
        "plt.scatter(data_age,data_BMI)\n",
        "plt.xlabel('age')\n",
        "plt.ylabel('BMI')\n",
        "\n",
        "plt.show()"
      ],
      "execution_count": 0,
      "outputs": []
    },
    {
      "cell_type": "code",
      "metadata": {
        "id": "qtSXlFF1VTEM",
        "colab_type": "code",
        "colab": {}
      },
      "source": [
        "#2-12.ビジュアルの調整\n",
        "\n",
        "plt.scatter(data_age,data_BMI,\n",
        "            marker='v',          # マーカーの形の変更\n",
        "            c='orange',          # マーカーの色の変更\n",
        "            s=10                 # マーカーのサイズの変更\n",
        "           )\n",
        "plt.show()"
      ],
      "execution_count": 0,
      "outputs": []
    },
    {
      "cell_type": "code",
      "metadata": {
        "id": "yq5duv-lVTHH",
        "colab_type": "code",
        "colab": {}
      },
      "source": [
        "#2-13.Outcome毎に分けてプロット\n",
        "# あとで再利用するので、関数として定義しておきます\n",
        "\n",
        "def plot_scatter(df_pos,df_neg,cols=['Age','BMI'],dsize=10):\n",
        "    plt.scatter(df_pos[cols[0]],df_pos[cols[1]],\n",
        "                c='orange',\n",
        "                s=dsize,\n",
        "                label='positive',\n",
        "               )\n",
        "    plt.scatter(df_neg[cols[0]],df_neg[cols[1]],\n",
        "                c='blue',\n",
        "                s=dsize,\n",
        "                label='negative',\n",
        "                alpha=0.3, # そのままだとドットが重なって見にくいため、透明度を調整\n",
        "               )\n",
        "\n",
        "    plt.xlabel(cols[0])\n",
        "    plt.ylabel(cols[1])\n",
        "\n",
        "    # legendを可視化\n",
        "    plt.legend()\n",
        "\n",
        "# 作成した関数を用いてプロット\n",
        "plt.figure(figsize=(8,8))\n",
        "plot_scatter(df_pos,df_neg)\n",
        "plt.show()"
      ],
      "execution_count": 0,
      "outputs": []
    },
    {
      "cell_type": "code",
      "metadata": {
        "id": "_Py8ZVUoVTKC",
        "colab_type": "code",
        "colab": {}
      },
      "source": [
        "#2-13.Outcome毎に分けてプロット\n",
        "# あとで再利用するので、関数として定義しておきます\n",
        "\n",
        "def plot_scatter(df_pos,df_neg,cols=['Age','BMI'],dsize=10):\n",
        "    plt.scatter(df_pos[cols[0]],df_pos[cols[1]],\n",
        "                c='orange',\n",
        "                s=dsize,\n",
        "                label='positive',\n",
        "               )\n",
        "    plt.scatter(df_neg[cols[0]],df_neg[cols[1]],\n",
        "                c='blue',\n",
        "                s=dsize,\n",
        "                label='negative',\n",
        "                alpha=0.3, # そのままだとドットが重なって見にくいため、透明度を調整\n",
        "               )\n",
        "\n",
        "    plt.xlabel(cols[0])\n",
        "    plt.ylabel(cols[1])\n",
        "\n",
        "    # legendを可視化\n",
        "    plt.legend()\n",
        "\n",
        "# 作成した関数を用いてプロット\n",
        "plt.figure(figsize=(8,8))\n",
        "plot_scatter(df_pos,df_neg)\n",
        "plt.show()"
      ],
      "execution_count": 0,
      "outputs": []
    },
    {
      "cell_type": "code",
      "metadata": {
        "id": "hKkYlAWNcYvv",
        "colab_type": "code",
        "colab": {}
      },
      "source": [
        "#2-14（再掲）.散布図行列\n",
        "\n",
        "sns.pairplot(correct_df, hue = 'Outcome', diag_kind='hist', height= 1.8,markers=[\".\", \"+\"])"
      ],
      "execution_count": 0,
      "outputs": []
    },
    {
      "cell_type": "code",
      "metadata": {
        "id": "5onfVBbUv6r_",
        "colab_type": "code",
        "colab": {}
      },
      "source": [
        "# 2-15.上で描いたscatter plotのデータを利用してヒートマップを描画\n",
        "\n",
        "# ヒートマップを作成するためには、2次元平面をグリッド状に分割し\n",
        "# 各領域に対して何らかの値を定義する必要がある。\n",
        "# ここでは、単純に各領域に含まれる人数をカウント\n",
        "\n",
        "heatmap, xedges, yedges = np.histogram2d(data_age, data_BMI, bins=15)\n",
        "# edgesは、データを15個のビンで切った際、切れ目部分に相当する数値を有している\n",
        "\n",
        "extent = [xedges[0], xedges[-1], yedges[0], yedges[-1]]\n",
        "# 16個の切れ目のうち、最小値と最大値の情報を保存\n",
        "# 後でheatmapを作成する際、各軸の範囲を指定するのに使用する\n",
        "\n",
        "# print(heatmap.T)\n",
        "# print('\\n')\n",
        "print(extent)"
      ],
      "execution_count": 0,
      "outputs": []
    },
    {
      "cell_type": "code",
      "metadata": {
        "id": "v1x_FLU1v608",
        "colab_type": "code",
        "colab": {}
      },
      "source": [
        "#2-1６.matplotlibのimshow関数を使用\n",
        "\n",
        "plt.imshow(heatmap.T,       # np.histogram2dのoutput行列を転置\n",
        "           extent=extent,   # 軸の範囲を指定\n",
        "           origin='lower',  # defaultは'upper'であり、そのままだとy軸が反転してしまう\n",
        "          )\n",
        "\n",
        "plt.xlabel('age')\n",
        "plt.ylabel('BMI')\n",
        "plt.show()"
      ],
      "execution_count": 0,
      "outputs": []
    },
    {
      "cell_type": "code",
      "metadata": {
        "id": "39dxP2w7v63z",
        "colab_type": "code",
        "colab": {}
      },
      "source": [
        "#2-17.ビジュアルの調整\n",
        "\n",
        "plt.imshow(heatmap.T, \n",
        "           extent=extent, \n",
        "           origin='lower',\n",
        "           cmap='hot'       # カラーマップの変更 (デフォルトは'viridis')\n",
        "          )\n",
        "\n",
        "plt.xlabel('age')\n",
        "plt.ylabel('BMI')\n",
        "cb = plt.colorbar() # カラーバーの追加\n",
        "cb.set_label('counts') # カラーバーの数値にラベルを追加\n",
        "plt.show()"
      ],
      "execution_count": 0,
      "outputs": []
    },
    {
      "cell_type": "code",
      "metadata": {
        "id": "SSBBDVwXv66n",
        "colab_type": "code",
        "colab": {}
      },
      "source": [
        "#2-18（参考）. seaborn.kdeplotによるdensity map\n",
        "sns.kdeplot(data_age, data_BMI, shade=True, cmap='Reds')\n",
        "plt.show()"
      ],
      "execution_count": 0,
      "outputs": []
    },
    {
      "cell_type": "code",
      "metadata": {
        "id": "SyLl_aBav69O",
        "colab_type": "code",
        "colab": {}
      },
      "source": [
        "#2-19. 各変数間の相関をヒートマップで表します\n",
        "\n",
        "# 画像サイズの設定\n",
        "plt.figure(figsize=(12, 9))\n",
        "\n",
        "# 相関係数行列のヒートマップ\n",
        "# AgeとPregnanciesに比較的高い相関がある等、確認できます\n",
        "sns.heatmap(df.corr(), cmap='bwr', annot=True)"
      ],
      "execution_count": 0,
      "outputs": []
    },
    {
      "cell_type": "markdown",
      "metadata": {
        "id": "xlcnKCkBwG4-",
        "colab_type": "text"
      },
      "source": [
        "# 演習問題"
      ]
    },
    {
      "cell_type": "markdown",
      "metadata": {
        "id": "HcliNHL_wK4K",
        "colab_type": "text"
      },
      "source": [
        "###今回2変数間の関係性や比較では、AgeとBMIの組み合わせを使用しました。\n",
        "###「2-14（再掲）.散布図行列」\n",
        "###「2-19. 各変数間の相関」\n",
        "###なども参考にしながら、Outcomeである糖尿病の有無を説明するのに、他の「良さそうな」組み合わせを、今回学んだデータ可視化の手法を用いて探してみてください。"
      ]
    },
    {
      "cell_type": "code",
      "metadata": {
        "id": "B4lGdiA_wOHz",
        "colab_type": "code",
        "colab": {}
      },
      "source": [
        ""
      ],
      "execution_count": 0,
      "outputs": []
    }
  ]
}