{
 "cells": [
  {
   "cell_type": "markdown",
   "metadata": {},
   "source": [
    "# データ可視化試行講座　配布用ノートブック\n",
    "\n",
    "*matplotlib gallery: https://matplotlib.org/gallery.html"
   ]
  },
  {
   "cell_type": "markdown",
   "metadata": {},
   "source": [
    "## 1. matplotlibを利用したデータ可視化の基礎"
   ]
  },
  {
   "cell_type": "code",
   "execution_count": null,
   "metadata": {},
   "outputs": [],
   "source": [
    "# matplotlibのインポート"
   ]
  },
  {
   "cell_type": "code",
   "execution_count": null,
   "metadata": {},
   "outputs": [],
   "source": [
    "# 簡単なプロット"
   ]
  },
  {
   "cell_type": "code",
   "execution_count": null,
   "metadata": {},
   "outputs": [],
   "source": [
    "# サブプロット"
   ]
  },
  {
   "cell_type": "code",
   "execution_count": null,
   "metadata": {},
   "outputs": [],
   "source": [
    "# ループを利用したサブプロットの作成"
   ]
  },
  {
   "cell_type": "code",
   "execution_count": null,
   "metadata": {},
   "outputs": [],
   "source": [
    "# プロット間のスペースの調整\n",
    "\n",
    "fig, axes = plt.subplots(2,3,sharex=True,sharey=True)\n",
    "for i in range(2):\n",
    "    for j in range(3):\n",
    "        axes[i,j].plot(np.random.randn(10))\n",
    "        \n",
    "plt.subplots_adjust(wspace=0,hspace=0)"
   ]
  },
  {
   "cell_type": "markdown",
   "metadata": {},
   "source": [
    "## 2. Pima indiansデータのロード、データの前処理"
   ]
  },
  {
   "cell_type": "code",
   "execution_count": null,
   "metadata": {},
   "outputs": [],
   "source": [
    "# e-learningで学習した内容ですので、以下をコピペしてください\n",
    "import pandas as pd\n",
    "\n",
    "# Jupyter Notebookのホームディレクトリに下記csvファイルを格納しておく必要があります\n",
    "filename = \"pima-indians-diabetes.data.csv\"\n",
    "\n",
    "df = pd.read_csv(filename, sep=',',\n",
    "                 names=[\n",
    "                     'Pregnancies',\n",
    "                     'Glucose',\n",
    "                     'Blood Pressure',\n",
    "                     'Skin Thickness',\n",
    "                     'Insulin',\n",
    "                     'BMI',\n",
    "                     'Diabetes Pedigree Function',\n",
    "                     'Age',\n",
    "                     'Outcome'\n",
    "                 ]\n",
    "                )\n",
    "df.head()"
   ]
  },
  {
   "cell_type": "code",
   "execution_count": null,
   "metadata": {},
   "outputs": [],
   "source": [
    "# 平均値による欠損値の補完 (e-learningの復習)。ここもコピペしてください。\n",
    "imputer_cols = df.columns[[1,2,3,4,5,6]]\n",
    "correct_df = df.copy()\n",
    "\n",
    "for i in imputer_cols:\n",
    "    correct_df[i] = correct_df[i].mask(df[i]==0, df[i].mean())\n",
    "\n",
    "correct_df.head()"
   ]
  },
  {
   "cell_type": "markdown",
   "metadata": {},
   "source": [
    "## 3. ヒストグラムによる可視化"
   ]
  },
  {
   "cell_type": "code",
   "execution_count": null,
   "metadata": {},
   "outputs": [],
   "source": [
    "# ageデータを使用して、ヒストグラムを作成します"
   ]
  },
  {
   "cell_type": "code",
   "execution_count": null,
   "metadata": {},
   "outputs": [],
   "source": [
    "# ビジュアルの調整"
   ]
  },
  {
   "cell_type": "code",
   "execution_count": null,
   "metadata": {},
   "outputs": [],
   "source": [
    "# Outcomeごとにデータを分離"
   ]
  },
  {
   "cell_type": "code",
   "execution_count": null,
   "metadata": {},
   "outputs": [],
   "source": [
    "# ヒストグラムを重ねて表示"
   ]
  },
  {
   "cell_type": "code",
   "execution_count": null,
   "metadata": {},
   "outputs": [],
   "source": [
    "# ヒストグラムを並べて表示するための関数を作成\n",
    "# 全てタイプすると時間がかかるため、ここは以下をコピペしてください\n",
    "\n",
    "def plot_histogram(ax,df_pos,df_neg,col='Age',le=False,ti=False):\n",
    "    ax.hist([df_pos[col], df_neg[col]],edgecolor='black')\n",
    "    ax.set_xlabel(col)\n",
    "    ax.set_ylabel('count')\n",
    "    if le:\n",
    "        ax.legend(['positive','negative'])\n",
    "    if ti:\n",
    "        s = 'Histogram of ' + col + ' data'\n",
    "        ax.set_title(s)"
   ]
  },
  {
   "cell_type": "code",
   "execution_count": null,
   "metadata": {},
   "outputs": [],
   "source": [
    "# ヒストグラムを並べて表示"
   ]
  },
  {
   "cell_type": "markdown",
   "metadata": {},
   "source": [
    "## 4. 円グラフによる可視化"
   ]
  },
  {
   "cell_type": "code",
   "execution_count": null,
   "metadata": {},
   "outputs": [],
   "source": [
    "# BMIデータを分割し、カウントします"
   ]
  },
  {
   "cell_type": "code",
   "execution_count": null,
   "metadata": {},
   "outputs": [],
   "source": [
    "# 円グラフをプロットします"
   ]
  },
  {
   "cell_type": "markdown",
   "metadata": {},
   "source": [
    "## 5. 散布図による可視化"
   ]
  },
  {
   "cell_type": "code",
   "execution_count": null,
   "metadata": {},
   "outputs": [],
   "source": [
    "# AgeとBMIの関係をプロット"
   ]
  },
  {
   "cell_type": "code",
   "execution_count": null,
   "metadata": {},
   "outputs": [],
   "source": [
    "# ビジュアルの調整"
   ]
  },
  {
   "cell_type": "code",
   "execution_count": null,
   "metadata": {},
   "outputs": [],
   "source": [
    "# Outcomeごとに分けてプロットするための関数を作成します\n",
    "# 全てタイプすると時間がかかるため、以下をコピペしてください\n",
    "\n",
    "def plot_scatter(df_pos,df_neg,cols=['Age','BMI'],dsize=10):\n",
    "    plt.scatter(df_pos[cols[0]],df_pos[cols[1]],\n",
    "                c='orange',\n",
    "                s=dsize,\n",
    "                label='positive',\n",
    "               )\n",
    "    plt.scatter(df_neg[cols[0]],df_neg[cols[1]],\n",
    "                c='blue',\n",
    "                s=dsize,\n",
    "                label='negative',\n",
    "                alpha=0.3, # そのままだとドットが重なって見にくいため、透明度を調整\n",
    "               )\n",
    "\n",
    "    plt.xlabel(cols[0])\n",
    "    plt.ylabel(cols[1])\n",
    "\n",
    "    # legendを可視化\n",
    "    plt.legend()"
   ]
  },
  {
   "cell_type": "code",
   "execution_count": null,
   "metadata": {},
   "outputs": [],
   "source": [
    "# 作成した関数を用いてプロット"
   ]
  },
  {
   "cell_type": "markdown",
   "metadata": {},
   "source": [
    "## 6. ヒートマップによる可視化"
   ]
  },
  {
   "cell_type": "code",
   "execution_count": null,
   "metadata": {},
   "outputs": [],
   "source": [
    "# 上で描いたscatter plotをヒートマップに変換\n",
    "\n",
    "# ヒートマップを作成するためには、2次元平面をグリッド状に分割し、\n",
    "# 各領域に対して「密度」などの何らかの値を定義する必要がある。\n",
    "# ここでは、単純に各領域に含まれる人数をカウント"
   ]
  },
  {
   "cell_type": "code",
   "execution_count": null,
   "metadata": {},
   "outputs": [],
   "source": [
    "# matplotlibのimshow関数を使用"
   ]
  },
  {
   "cell_type": "code",
   "execution_count": null,
   "metadata": {},
   "outputs": [],
   "source": [
    "# ビジュアルの調整"
   ]
  },
  {
   "cell_type": "markdown",
   "metadata": {},
   "source": [
    "## 7. Logistic回帰とROC解析、ROC曲線"
   ]
  },
  {
   "cell_type": "code",
   "execution_count": null,
   "metadata": {},
   "outputs": [],
   "source": [
    "# まずLogistic regressionを行う\n",
    "# e-learningの復習となりますので、以下をコピペで先に進んでください\n",
    "\n",
    "from sklearn import model_selection\n",
    "from sklearn.preprocessing import StandardScaler\n",
    "from sklearn.linear_model import LogisticRegression\n",
    "\n",
    "# 説明変数の選択\n",
    "X = correct_df[['Age','BMI']]\n",
    "y = correct_df.loc[:, 'Outcome']\n",
    "\n",
    "# 訓練データと評価データの分割\n",
    "X_train, X_test, y_train, y_test = model_selection.train_test_split(\n",
    "    X, y, test_size=1/5, random_state=0\n",
    ")\n",
    "\n",
    "# インスタンスを生成します\n",
    "lr = LogisticRegression(solver='lbfgs', class_weight='balanced',\n",
    "                        max_iter=1e5, random_state=0)\n",
    "\n",
    "# 学習（パラメータの推定）\n",
    "# ここでは、理解を容易にするためデータを標準化せずに使用します\n",
    "lr.fit(X_train, y_train)\n",
    "\n",
    "# DataFrameに格納\n",
    "coefs = pd.DataFrame(lr.coef_, columns=X.columns)\n",
    "coefs['intercept'] = lr.intercept_\n",
    "\n",
    "# DataFrameの可視化\n",
    "coefs.T.plot(y=coefs.index, kind='bar', title='coefficients', grid=True)"
   ]
  },
  {
   "cell_type": "code",
   "execution_count": null,
   "metadata": {},
   "outputs": [],
   "source": [
    "# Logistic regressionの結果を可視化するために、ageおよびBMIそれぞれの軸に対して等差数列を作成します"
   ]
  },
  {
   "cell_type": "code",
   "execution_count": null,
   "metadata": {},
   "outputs": [],
   "source": [
    "# age x BMI の２次元平面の各座標において、regressionで求めた関数から陽性率を計算します"
   ]
  },
  {
   "cell_type": "code",
   "execution_count": null,
   "metadata": {},
   "outputs": [],
   "source": [
    "# 陽性率の関数とデータの散布図を同一グラフ上に描画"
   ]
  },
  {
   "cell_type": "code",
   "execution_count": null,
   "metadata": {},
   "outputs": [],
   "source": [
    "# 混合行列、classification_reportの確認\n",
    "# e-learningの復習ですので、以下をコピペしてください\n",
    "\n",
    "from sklearn.metrics import confusion_matrix, classification_report, roc_curve, auc\n",
    "\n",
    "y_pred = lr.predict(X_test)\n",
    "labels = [1,0]\n",
    "print(classification_report(y_test, y_pred, labels=labels))\n",
    "\n",
    "# 混合行列を出力します\n",
    "# 医療検査で1を陽性、0を陰性とすると、左上は真陽性(true positive)、右下は真陰性(true negative)、\n",
    "# 右上は偽陽性(false positive)、左下は偽陰性(false negative)になります。\n",
    "conf_mtx = confusion_matrix(y_test, y_pred, labels=labels)\n",
    "sns.heatmap(conf_mtx, annot=True, xticklabels=labels, yticklabels=labels)\n",
    "plt.show()"
   ]
  },
  {
   "cell_type": "code",
   "execution_count": null,
   "metadata": {},
   "outputs": [],
   "source": [
    "# ROC curve, およびarea under the curve (AUC) の計算"
   ]
  },
  {
   "cell_type": "code",
   "execution_count": null,
   "metadata": {},
   "outputs": [],
   "source": [
    "# おまけ\n",
    "# ROC curveの簡単な解説\n",
    "\n",
    "tmp = [[y_test.iloc[i],prob_positive[i]] for i in range(y_test.shape[0])]\n",
    "prob_pos = [v[1] for v in tmp if v[0]==1]\n",
    "prob_neg = [v[1] for v in tmp if v[0]==0]\n",
    "\n",
    "fig = plt.figure(figsize=[8,6])\n",
    "ax = fig.add_subplot(1,1,1)\n",
    "plot_scatter(df_pos,df_neg,dsize=10)\n",
    "im = ax.imshow(prediction.T,\n",
    "               extent=extent,\n",
    "               origin='lower',\n",
    "               cmap='pink'\n",
    "               )\n",
    "ax.set_xlabel('age')\n",
    "ax.set_ylabel('BMI')\n",
    "cb = fig.colorbar(im)\n",
    "cb.set_label('P(outcome=1)')\n",
    "\n",
    "plt.figure(figsize=[6,4])\n",
    "bins = np.linspace(0,1,11)\n",
    "plt.hist([prob_neg,prob_pos], bins=bins, density=True, edgecolor='black')\n",
    "plt.xlabel('P(outcome=1)')\n",
    "plt.ylabel(' ')\n",
    "plt.legend(['negative','positive'])\n",
    "\n",
    "plt.figure(figsize=[6,4])\n",
    "plt.plot(fpr, tpr)\n",
    "plt.xlabel('False positive rate')\n",
    "plt.ylabel('True positive rate')\n",
    "\n",
    "plt.show()"
   ]
  },
  {
   "cell_type": "markdown",
   "metadata": {},
   "source": [
    "## 8. データ可視化演習"
   ]
  },
  {
   "cell_type": "markdown",
   "metadata": {},
   "source": [
    "### 演習問題1\n",
    "\n",
    "Obesity群 (BMI 30以上) とnormal群 (BMI 30未満) の比率を表す円グラフを糖尿病群 (Outcome=1) と非糖尿病群 (Outcome=0) で分けて作成し、それらを並べたfigureを作成してください。"
   ]
  },
  {
   "cell_type": "code",
   "execution_count": null,
   "metadata": {},
   "outputs": [],
   "source": []
  },
  {
   "cell_type": "markdown",
   "metadata": {},
   "source": [
    "### 演習問題2\n",
    "\n",
    "AgeとBMIを説明変数として使用した場合のロジスティック回帰モデルでは、AUCが0.72程度でした。<br>\n",
    "実は、この2変数の組み合わせは、分類精度という観点においては必ずしも最適ではありません。そこで、<br>\n",
    "\n",
    "i.  AgeとBMIの組み合わせよりも「良さそうな」組み合わせを、今回学んだデータ可視化の手法を用いて探してみてください。<br>\n",
    "ii. 見つけた変数の組み合わせを使用したロジスティック回帰モデルを作成し、AUCの値を表示したROC曲線を描いてください。"
   ]
  },
  {
   "cell_type": "code",
   "execution_count": null,
   "metadata": {},
   "outputs": [],
   "source": []
  },
  {
   "cell_type": "code",
   "execution_count": null,
   "metadata": {},
   "outputs": [],
   "source": []
  }
 ],
 "metadata": {
  "kernelspec": {
   "display_name": "Python 3",
   "language": "python",
   "name": "python3"
  },
  "language_info": {
   "codemirror_mode": {
    "name": "ipython",
    "version": 3
   },
   "file_extension": ".py",
   "mimetype": "text/x-python",
   "name": "python",
   "nbconvert_exporter": "python",
   "pygments_lexer": "ipython3",
   "version": "3.7.0"
  }
 },
 "nbformat": 4,
 "nbformat_minor": 2
}
