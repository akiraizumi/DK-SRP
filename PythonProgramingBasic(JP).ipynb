{
 "cells": [
  {
   "cell_type": "markdown",
   "metadata": {},
   "source": [
    "### ----------------------------------------------------------------------------------------------------------\n",
    "# プログラミング(Python) e-Learning用教材 基本操作編\n",
    "## 社会変革型 ライフサイエンス・ヘルスケア データサイエンティスト育成講座\n",
    "### Ver0.2(α版) 2019/1/11 Akira Izumi\n",
    "### ----------------------------------------------------------------------------------------------------------"
   ]
  },
  {
   "cell_type": "markdown",
   "metadata": {},
   "source": [
    "## 基本的な標準機能"
   ]
  },
  {
   "cell_type": "code",
   "execution_count": null,
   "metadata": {},
   "outputs": [],
   "source": [
    "# 表示\n",
    "\n",
    "# print関数は、カッコ内の文字列を表示します\n",
    "print(\"hello, world!\")"
   ]
  },
  {
   "cell_type": "code",
   "execution_count": null,
   "metadata": {},
   "outputs": [],
   "source": [
    "# 変数と計算\n",
    "# 簡単な計算は、特別なライブラリを導入することなく、標準機能のみで可能です\n",
    "\n",
    "# 変数の割当\n",
    "x = 5\n",
    "print(\"xは\", x, \"です\")\n",
    "\n",
    "# 和\n",
    "print(\"x+2は\", x+2, \"です\")\n",
    "\n",
    "# 差\n",
    "print(\"x-2は\", x-2, \"です\")\n",
    "\n",
    "# 積\n",
    "print(\"x×2は\", x*2, \"です\")\n",
    "\n",
    "# 商\n",
    "print(\"x÷2は\", x/3, \"です\")\n",
    "\n",
    "# 剰余\n",
    "print(\"x÷2の剰余は\", x%3, \"です\")\n",
    "\n",
    "# 指数\n",
    "print(\"xの二乗は\", x**2, \"です\")"
   ]
  },
  {
   "cell_type": "code",
   "execution_count": null,
   "metadata": {},
   "outputs": [],
   "source": [
    "# データ型とデータ変換\n",
    "\n",
    "# 変数割当: 文字列\n",
    "x = str(3.45)\n",
    "print(\"文字列'3.45'\")\n",
    "\n",
    "# float型への変換\n",
    "x_2 = float(x)\n",
    "print(\"文字列'3.45'をfloat型に変換すると\", x_2, \"です\")\n",
    "\n",
    "# int型への変換\n",
    "# 浮動小数点の文字列からint型へ変換するとき、一度float型に変換する必要があります\n",
    "x_3 = int(float(x))\n",
    "print(\"文字列'3.45'をint型に変換すると\", x_3, \"です\")\n",
    "\n",
    "# bool型への変換\n",
    "print(\"文字列'3.45'をbool型に変換すると\", bool(x), \"です\")"
   ]
  },
  {
   "cell_type": "code",
   "execution_count": null,
   "metadata": {
    "scrolled": true
   },
   "outputs": [],
   "source": [
    "# リスト\n",
    "\n",
    "list_1 = ['A', 'quick', 'brown', 'fox', 'jumps', 'over', 'the', 'lazy', 'dog']\n",
    "\n",
    "print(\"list_1の要素数は\", len(list_1), \"です\")\n",
    "\n",
    "# リストの要素番号は0から始まることを気を付けてください\n",
    "print(\"list_1の第2要素は\", list_1[1], \"です\")\n",
    "\n",
    "print(\"list_1の最後から3番目の要素は\", list_1[-3], \"です\")\n",
    "\n",
    "print(\"list_1の第3要素以降は\", list_1[2:], \"です\")\n",
    "\n",
    "print(\"list_1の第1～4要素は\", list_1[:4], \"です\")\n",
    "\n",
    "print(\"list_1の第2～4要素は\", list_1[1:4], \"です\")"
   ]
  },
  {
   "cell_type": "code",
   "execution_count": null,
   "metadata": {},
   "outputs": [],
   "source": [
    "# List in Lists\n",
    "\n",
    "list_2 = [\n",
    "    [1, 3, 5, 7],\n",
    "    [2, 4, 6, 8, 10],\n",
    "    [1, 3, 5, 7, 11, 13, 17, 19]\n",
    "]\n",
    "\n",
    "print(\"list_2に含まれているリストは\", len(list_2), \"個です\")\n",
    "\n",
    "# 後述するfor文を利用した表示形式も是非試してみてください\n",
    "print(\"list_2の第1リストに含まれる要素数は\", len(list_2[0]), \"です\")\n",
    "print(\"list_2の第2リストに含まれる要素数は\", len(list_2[1]), \"です\")\n",
    "print(\"list_2の第3リストに含まれる要素数は\", len(list_2[2]), \"です\")\n",
    "\n",
    "print(\"list_2における第3リストの第3～5の要素は\", list_2[2][2:5], \"です\")"
   ]
  },
  {
   "cell_type": "code",
   "execution_count": null,
   "metadata": {},
   "outputs": [],
   "source": [
    "# リスト型のメソッド例\n",
    "\n",
    "print(\"list_1は\", list_1, \"です\")\n",
    "\n",
    "print(\"list_1における'jumps'の要素番号は\", list_1.index('jumps'), \"です\")\n",
    "\n",
    "print(\"list_1における'the'の要素は\", list_1.count('the'), \"個です\")\n",
    "\n",
    "# 要素の追加\n",
    "list_1.append('!')\n",
    "print(\"list_1の最後に'!'を入れると以下になります:\\n\", list_1)\n",
    "\n",
    "# 要素の削除\n",
    "list_1.remove('!')\n",
    "print(\"list_1の'!'を削除すると以下になります:\\n\", list_1)"
   ]
  },
  {
   "cell_type": "markdown",
   "metadata": {},
   "source": [
    "### for文"
   ]
  },
  {
   "cell_type": "code",
   "execution_count": null,
   "metadata": {
    "scrolled": true
   },
   "outputs": [],
   "source": [
    "# for文を使うと繰り返しの処理ができます\n",
    "\n",
    "# subjectsというlist（リスト）を作成しています\n",
    "subjects = [\n",
    "    '循環器病学・心臓血管外科学', '血液病学', \n",
    "    '糖尿病・内分泌・栄養内科学', '整形外科学', '物理学実験'\n",
    "]\n",
    "\n",
    "# subjectsの要素を最初から最後まで、繰り返し表示します\n",
    "for subject in subjects:\n",
    "    print('医学部医学科のシステム教科には', subject, 'があります')"
   ]
  },
  {
   "cell_type": "markdown",
   "metadata": {},
   "source": [
    "### if文"
   ]
  },
  {
   "cell_type": "code",
   "execution_count": null,
   "metadata": {},
   "outputs": [],
   "source": [
    "# if, elseで条件分岐処理ができます\n",
    "\n",
    "for subject in subjects:\n",
    "    # もしsubjectが『物理学実験』なら何もしない\n",
    "    if subject == '物理学実験':\n",
    "        pass\n",
    "    # それ以外ならば、\"医学部医学科の～\"を表示する\n",
    "    else:\n",
    "        print('医学部医学科のシステム教科には', subject, 'があります')"
   ]
  },
  {
   "cell_type": "markdown",
   "metadata": {},
   "source": [
    "### While文"
   ]
  },
  {
   "cell_type": "code",
   "execution_count": null,
   "metadata": {},
   "outputs": [],
   "source": [
    "# while文は条件を満たす間、同じブロックの処理を繰り返します\n",
    "\n",
    "total = 0\n",
    "\n",
    "while total < 10:\n",
    "    total += 1\n",
    "    print('ループ', str(total), '回目')\n",
    "\n",
    "print('全ループ回数は', str(total), '回')"
   ]
  },
  {
   "cell_type": "markdown",
   "metadata": {},
   "source": [
    "### break-continue文"
   ]
  },
  {
   "cell_type": "code",
   "execution_count": null,
   "metadata": {},
   "outputs": [],
   "source": [
    "# break-continue文はfor文やwhile文の反復処理から抜けるために使用します\n",
    "\n",
    "total = 0\n",
    "\n",
    "# 条件は、10万回\n",
    "while total < 10e5:\n",
    "    total += 1\n",
    "    # totalが3のときには何もしない\n",
    "    if total == 3:\n",
    "        continue\n",
    "    # totalが6のときに反復処理終了\n",
    "    if total == 6:\n",
    "        break\n",
    "    print('ループ', str(total), '回目')\n",
    "\n",
    "print(str(total), '回目のループで離脱')"
   ]
  },
  {
   "cell_type": "markdown",
   "metadata": {},
   "source": [
    "### defを用いた関数定義"
   ]
  },
  {
   "cell_type": "code",
   "execution_count": null,
   "metadata": {},
   "outputs": [],
   "source": [
    "# 関数の作成方法\n",
    "# 関数：処理に名前を付けて、いつでも利用できるようにしたもの\n",
    "\n",
    "# 例：xとyの加算を返すadd関数を定義\n",
    "def add(x, y):\n",
    "    # 変数zにxとyの加算を代入\n",
    "    z = x + y\n",
    "    # zを返す\n",
    "    return z"
   ]
  },
  {
   "cell_type": "code",
   "execution_count": null,
   "metadata": {},
   "outputs": [],
   "source": [
    "# 関数を使用する際は関数名と引数を与えます\n",
    "\n",
    "# 変数xに3を代入\n",
    "x = 3\n",
    "# 変数yに5を代入\n",
    "y = 5\n",
    "# add関数に引数xとyを入力し、出力をanswerとする\n",
    "answer = add(x, y)\n",
    "# answerの表示\n",
    "print(answer)"
   ]
  },
  {
   "cell_type": "markdown",
   "metadata": {},
   "source": [
    "### lambda式を用いた関数定義"
   ]
  },
  {
   "cell_type": "code",
   "execution_count": null,
   "metadata": {},
   "outputs": [],
   "source": [
    "add2 = lambda x, y: x + y"
   ]
  },
  {
   "cell_type": "code",
   "execution_count": null,
   "metadata": {},
   "outputs": [],
   "source": [
    "x, y = 3, 5\n",
    "total = add2(x, y)\n",
    "print(total)"
   ]
  },
  {
   "cell_type": "markdown",
   "metadata": {},
   "source": [
    "### classの定義"
   ]
  },
  {
   "cell_type": "code",
   "execution_count": null,
   "metadata": {},
   "outputs": [],
   "source": [
    "# クラスの作成方法\n",
    "\n",
    "# クラス：定数や変数、関数等の処理をまとめた設計図のようなもので、インスタンスを複数作成可能です\n",
    "# インスタンス：設計図から実際に処理できるようにしたもの（オブジェクト）のことです\n",
    "# コンストラクタ： インスタンス作成の時ときに必ず実行される処理で、初期化等で利用されます\n",
    "#                   pythonの場合、『def __init__～』のブロックが対応します\n",
    "# 属性(attribute)：クラスの特性（変数等）を表します\n",
    "# メソッド(method)：クラス内で利用できる関数を表します\n",
    "\n",
    "class Example():\n",
    "    # クラスのコンストラクタで、a, b, cを受け取り、num1, num2, num3という属性に代入\n",
    "    def __init__(self, a, b, c):\n",
    "        # 属性num1はa, num2はb, num3はc\n",
    "        self.num1 = a\n",
    "        self.num2 = b\n",
    "        self.num3 = c\n",
    "\n",
    "    # print_totalメソッドを定義します\n",
    "    def print_total(self):\n",
    "        #totalに属性num1～num3の和を代入\n",
    "        total = self.num1 + self.num2 + self.num3\n",
    "        # totalを表示\n",
    "        print(\"合計は\", total, \"です\")"
   ]
  },
  {
   "cell_type": "code",
   "execution_count": null,
   "metadata": {},
   "outputs": [],
   "source": [
    "# クラスを使用するために、クラス名と引数からインスタンスを生成します\n",
    "\n",
    "# num1=1, num2=2, num3=3という属性を持ったExampleクラスのインスタンスexを生成\n",
    "ex = Example(1, 2, 3)\n",
    "\n",
    "print(\"インスタンスexの属性num1は\", ex.num1, \"です\")\n",
    "# クラスexの属性num1を表示\n",
    "ex.print_total() # インスタンスexのメソッド『print_total』を実行"
   ]
  },
  {
   "cell_type": "markdown",
   "metadata": {},
   "source": [
    "## ライブラリの読み込み\n",
    "- ライブラリとはあるテーマを基に複数のクラスがまとまったものです  \n",
    "  \n",
    "- pythonそのものは汎用プログラミング言語であるため、データ分析を行う場合はデータ分析に適したライブラリを使用すると処理が効率的となります\n",
    "    - （多くの場合、バックエンドでpythonより高速な言語が動いており、処理スピードも速い）\n",
    "- データ分析でよく使うライブラリとしては以下があります\n",
    "    - numpy（数値計算のモジュールが集まったライブラリ）\n",
    "    - pandas（表データを扱うためのモジュールが集まったライブラリ）\n",
    "    - SciPy（統計、最適化、積分、線形代数などのモジュールが集まったライブラリ）\n",
    "    - scikit-learn（多くの機械学習モデル及び、前処理・評価関数などが含まれたライブラリ、使用する際はsklearn）\n",
    "    - statsmodels（多くの統計モデルが含まれたライブラリ）\n",
    "    - matplotlib（多くの可視化手法が含まれたライブラリ）\n",
    "    - seaborn（多くの可視化手法が含まれたライブラリ）"
   ]
  },
  {
   "cell_type": "markdown",
   "metadata": {},
   "source": [
    "### ライブラリの読込と利用"
   ]
  },
  {
   "cell_type": "code",
   "execution_count": null,
   "metadata": {},
   "outputs": [],
   "source": [
    "# ライブラリの読み込み方法　　\n",
    "\n",
    "# pandsのクラス・メソッドを利用したい場合は「pandas.」を頭につけます\n",
    "# （pandasの～という意味）\n",
    "import pandas\n",
    "\n",
    "# pandasをpdという名前で読み込む場合には『as』の後に短縮名を入力します。\n",
    "# 上記と同様に、pandasのクラス・メソッドを使用したい場合は「pd.」を頭につけます\n",
    "# 長い名前のライブラリはこのように短縮するケースが多く、公式でもpdを利用しています\n",
    "import pandas as pd \n",
    "\n",
    "# pandasからread_csvのメソッドのみを読み込む\n",
    "# scikit-learnのように多用途で大きなライブラリでは、このように必要なものだけ読み込むケースが多くあります\n",
    "from pandas import read_csv"
   ]
  },
  {
   "cell_type": "markdown",
   "metadata": {},
   "source": [
    "### 数値演算ライブラリ：numpy, Scipy"
   ]
  },
  {
   "cell_type": "code",
   "execution_count": null,
   "metadata": {},
   "outputs": [],
   "source": [
    "# numpyライブラリのインポート\n",
    "\n",
    "import numpy as np"
   ]
  },
  {
   "cell_type": "markdown",
   "metadata": {},
   "source": [
    "### 行列の操作"
   ]
  },
  {
   "cell_type": "code",
   "execution_count": null,
   "metadata": {},
   "outputs": [],
   "source": [
    "# 基本操作\n",
    "\n",
    "a = np.array([0, 1, 2, 3])\n",
    "print(\"1次元配列a=\", a)\n",
    "print(\"aの最大値は\", a.max(), \"です\")\n",
    "print(\"aの最小値は\", a.min(), \"です\")\n",
    "print(\"aの算術平均は\", a.mean(), \"です\")\n",
    "print(\"aの標準偏差は\", a.std(), \"です\")\n",
    "\n",
    "# 配列と数値の積\n",
    "a_1 = a * 3\n",
    "print(\"a_1=\", a_1)\n",
    "\n",
    "# 配列と数値の和\n",
    "a_2 = a + 2\n",
    "print(\"a_2=\", a_2)"
   ]
  },
  {
   "cell_type": "markdown",
   "metadata": {},
   "source": [
    "### 数学関数"
   ]
  },
  {
   "cell_type": "code",
   "execution_count": null,
   "metadata": {
    "scrolled": true
   },
   "outputs": [],
   "source": [
    "# 算術演算\n",
    "\n",
    "print(\"a=\", a)\n",
    "print(\"expのa乗は\", np.exp(a), \"です\")\n",
    "\n",
    "# log(0)は計算できないため、Warningが発生します\n",
    "print(\"aの自然対数は\", np.log(a), \"です\")\n",
    "print(\"aの平方根は\", np.sqrt(a), \"です\")\n",
    "print(\"aのsin値は\", np.sin(a), \"です\")\n",
    "print(\"aのcos値は\", np.cos(a), \"です\")"
   ]
  },
  {
   "cell_type": "code",
   "execution_count": null,
   "metadata": {},
   "outputs": [],
   "source": [
    "# 配列同士の演算\n",
    "\n",
    "b = np.array([0, 0, 1, 2])\n",
    "print(\"a=\", a)\n",
    "print(\"b=\", b)\n",
    "\n",
    "# 配列同士の和\n",
    "b_1 = a + b\n",
    "print(\"b_1=\", b_1)\n",
    "\n",
    "# 配列同士の積（アダマール積）\n",
    "b_2 = a * b\n",
    "print(\"b_2=\", b_2)\n",
    "\n",
    "# 配列同士の積（内積）\n",
    "b_3 = a.dot(b)\n",
    "print(\"b_3=\", b_3)\n",
    "\n",
    "# 配列同士の商\n",
    "# ゼロ割があるとWarningが出力されます\n",
    "# なお、分子が0ならば'nan'、それ以外は'±inf'が出力されます\n",
    "b_4 = a / b\n",
    "print(\"b_4=\", b_4)"
   ]
  },
  {
   "cell_type": "code",
   "execution_count": null,
   "metadata": {},
   "outputs": [],
   "source": [
    "# 多次元配列\n",
    "\n",
    "c = np.array(\n",
    "    [\n",
    "        [1, 2, 3],\n",
    "        [4, 5, 6]\n",
    "    ]\n",
    ")\n",
    "print(\"c=\\n\", c)\n",
    "\n",
    "print(\"多次元配列cの最大値は\", c.max(), \"です\")\n",
    "\n",
    "print(\"多次元配列cの最小値は\", c.min(), \"です\")\n",
    "\n",
    "print(\"多次元配列cの算術平均は\", c.mean(), \"です\")\n",
    "\n",
    "print(\"多次元配列cの標準偏差は\", c.std(), \"です\")\n",
    "\n",
    "print(\"多次元配列cの各行における最大値は\", c.max(axis=1), \"です\")\n",
    "\n",
    "print(\"多次元配列cの各行における最小値は\", c.min(axis=1), \"です\")\n",
    "\n",
    "print(\"多次元配列cの各行における算術平均は\", c.mean(axis=1), \"です\")\n",
    "\n",
    "print(\"多次元配列cの各行における標準偏差は\", c.std(axis=1), \"です\")\n",
    "\n",
    "# 多次元配列cのサイズ\n",
    "print(\"多次元配列cのサイズは\", c.shape, \"です\")\n",
    "\n",
    "# 全要素の和\n",
    "print(\"多次元配列cにおける全要素の和は\", c.sum(), \"です\")\n",
    "\n",
    "# 行の和（オプションにaxis=0とすることで、各列の和が得られます）\n",
    "print(\"多次元配列cにおける行の和は\", c.sum(axis=0), \"です\")\n",
    "\n",
    "# 列の和（オプションにaxis=1とすることで、各行の和が得られます）\n",
    "print(\"多次元配列cにおける列の和は\", c.sum(axis=1), \"です\")\n",
    "\n",
    "# 転置\n",
    "print(\"多次元配列cの転置は\\n\", c.T, \"です\")"
   ]
  },
  {
   "cell_type": "code",
   "execution_count": null,
   "metadata": {},
   "outputs": [],
   "source": [
    "# インデックス\n",
    "\n",
    "# 基本的にリスト型配列と同様です\n",
    "print(\"1次元配列a=\", a)\n",
    "\n",
    "print(\"1次元配列aの第一要素は\", a[0], \"です\")\n",
    "\n",
    "print(\"多次元配列c=\\n\", c)\n",
    "\n",
    "print(\"多次元配列cの1行2列は\", c[0,1], \"です\")"
   ]
  },
  {
   "cell_type": "code",
   "execution_count": null,
   "metadata": {},
   "outputs": [],
   "source": [
    "# スライシング\n",
    "\n",
    "d = np.array([1,5,2,6,3,7,4,8])\n",
    "print(\"1次元配列d=\", d)\n",
    "\n",
    "print(\"1次元配列dの第2～5要素は\", d[1:5], \"です\")\n",
    "\n",
    "print(\"1次元配列dの第2から2飛ばしの要素は\", d[1::2], \"です\")\n",
    "\n",
    "print(\"1次元配列dの逆順は\", d[::-1], \"です\")\n",
    "\n",
    "print(\"1次元配列dの第3,4,6要素は\", d[[2,3,5]], \"です\")"
   ]
  },
  {
   "cell_type": "code",
   "execution_count": null,
   "metadata": {},
   "outputs": [],
   "source": [
    "# ソート\n",
    "\n",
    "print(\"1次元配列d=\", d)\n",
    "\n",
    "print(\"1次元配列dを昇順ソートすると\", np.sort(d), \"です\")\n",
    "print(\"1次元配列dを昇順ソートしたときのインデックスは\", np.argsort(d), \"です\")\n",
    "\n",
    "print(\"1次元配列dを降順ソートすると\", np.sort(d)[::-1], \"です\")\n",
    "print(\"1次元配列dを降順ソートしたときのインデックスは\", np.argsort(d)[::-1], \"です\")"
   ]
  },
  {
   "cell_type": "code",
   "execution_count": null,
   "metadata": {},
   "outputs": [],
   "source": [
    "# 積分\n",
    "\n",
    "from scipy import integrate\n",
    "\n",
    "def func(x):\n",
    "    y = 2*x + 5\n",
    "    return y\n",
    "\n",
    "# 第1引数:関数, 第2引数:積分区間の下端, 第3引数:積分区間の上端\n",
    "result, error = integrate.quad(func, 0, 5)\n",
    "\n",
    "print('積分結果: ' + str(result) + '\\n誤差:' + str(error))"
   ]
  },
  {
   "cell_type": "code",
   "execution_count": null,
   "metadata": {},
   "outputs": [],
   "source": [
    "# 行列演算\n",
    "\n",
    "ndarray = np.array([\n",
    "    [1, 2],\n",
    "    [3, 4]\n",
    "])\n",
    "\n",
    "from scipy import linalg\n",
    "\n",
    "print('ndarrayの逆行列\\n' + str(linalg.inv(ndarray)) + '\\n')\n",
    "\n",
    "print('ndarrayの行列式\\n' + str(linalg.det(ndarray)) + '\\n')\n",
    "\n",
    "print('ndarraのノルム\\n' + str(linalg.norm(ndarray)))"
   ]
  },
  {
   "cell_type": "markdown",
   "metadata": {},
   "source": [
    "### pandasの基礎"
   ]
  },
  {
   "cell_type": "code",
   "execution_count": null,
   "metadata": {},
   "outputs": [],
   "source": [
    "# numpyライブラリのインポート\n",
    "\n",
    "import pandas as pd"
   ]
  },
  {
   "cell_type": "code",
   "execution_count": null,
   "metadata": {},
   "outputs": [],
   "source": [
    "# Series型作成\n",
    "\n",
    "s = pd.Series([1,2,3])\n",
    "s"
   ]
  },
  {
   "cell_type": "code",
   "execution_count": null,
   "metadata": {},
   "outputs": [],
   "source": [
    "# DataFrame型作成\n",
    "\n",
    "df = pd.DataFrame(\n",
    "    [\n",
    "        [1, 2, 3],\n",
    "        [4, 5, 6],\n",
    "        [7, 8, 9]\n",
    "    ],\n",
    "    columns=['A', 'B', 'C']\n",
    ")\n",
    "df"
   ]
  },
  {
   "cell_type": "code",
   "execution_count": null,
   "metadata": {},
   "outputs": [],
   "source": [
    "# データの読込\n",
    "df = pd.read_csv(\n",
    "    'pima-indians-diabetes.data.csv',\n",
    "    delimiter=',',\n",
    "    header=None\n",
    ")\n",
    "df.head()"
   ]
  },
  {
   "cell_type": "markdown",
   "metadata": {},
   "source": [
    "### データ参照・抽出"
   ]
  },
  {
   "cell_type": "code",
   "execution_count": null,
   "metadata": {
    "scrolled": true
   },
   "outputs": [],
   "source": [
    "# データの抽出\n",
    "\n",
    "# 元データ作成\n",
    "df = pd.DataFrame(\n",
    "    [\n",
    "        [1, 2, 3],\n",
    "        [4, 5, 6],\n",
    "        [7, 8, 9]\n",
    "    ],\n",
    "    columns=[\"X\", \"Y\", \"Z\"],\n",
    "    index = [\"I\", \"II\", \"III\"]\n",
    ")\n",
    "df"
   ]
  },
  {
   "cell_type": "code",
   "execution_count": null,
   "metadata": {},
   "outputs": [],
   "source": [
    "# dfの上部データ表示\n",
    "\n",
    "df.head(2)"
   ]
  },
  {
   "cell_type": "code",
   "execution_count": null,
   "metadata": {},
   "outputs": [],
   "source": [
    "# dfの下部データ表示\n",
    "\n",
    "df.tail(1)"
   ]
  },
  {
   "cell_type": "code",
   "execution_count": null,
   "metadata": {},
   "outputs": [],
   "source": [
    "# インデックス名がII、列名がZの要素を抽出\n",
    "\n",
    "df.loc['II', \"Z\"]"
   ]
  },
  {
   "cell_type": "code",
   "execution_count": null,
   "metadata": {},
   "outputs": [],
   "source": [
    "# インデックス番号が0と2、列番号が0と1の要素を抽出\n",
    "\n",
    "df.iloc[[0,2], [0,1]]"
   ]
  },
  {
   "cell_type": "code",
   "execution_count": null,
   "metadata": {},
   "outputs": [],
   "source": [
    "# 要素の条件付きデータ抽出\n",
    "\n",
    "# X列要素が4以上かつY列要素が5より大きい、X列とZ列の要素を抽出\n",
    "\n",
    "df[\n",
    "    (df['X']>=4) & (df['Y']>5)\n",
    "][\n",
    "    ['X', 'Z']\n",
    "]"
   ]
  },
  {
   "cell_type": "code",
   "execution_count": null,
   "metadata": {},
   "outputs": [],
   "source": [
    "# データ型の確認と操作\n",
    "\n",
    "# データ型の確認\n",
    "print(\"dfの各列のデータ型\")\n",
    "print(df.dtypes, \"\\n\")\n",
    "\n",
    "# データ型の変換（全体）\n",
    "df_2 = df.copy()\n",
    "df_2 = df.astype(np.int32)\n",
    "print(\"df_2の各列のデータ型\")\n",
    "print(df_2.dtypes, \"\\n\")\n",
    "\n",
    "# データ型の変換（特定列）\n",
    "df_3 = df.copy()\n",
    "df_3.loc[:,[\"X\", \"Z\"]] = df.loc[:,[\"X\", \"Z\"]].astype(np.float32)\n",
    "print(\"df_3の各列のデータ型\")\n",
    "print(df_3.dtypes)"
   ]
  },
  {
   "cell_type": "markdown",
   "metadata": {},
   "source": [
    "### データ操作"
   ]
  },
  {
   "cell_type": "code",
   "execution_count": null,
   "metadata": {
    "scrolled": false
   },
   "outputs": [],
   "source": [
    "# 欠損値の取扱い\n",
    "\n",
    "# 欠損値を含むDataFrameの作成\n",
    "df = pd.DataFrame(\n",
    "    [\n",
    "        [0, 1, 2, 3],\n",
    "        [4, np.nan, 6, np.nan],\n",
    "        [8, 9, np.nan, 1],\n",
    "        [0, 1, 2, 3]\n",
    "    ],\n",
    "    columns=['A', 'B', 'C', 'D']\n",
    ")\n",
    "print(\"元データ\")\n",
    "print(df, \"\\n\")\n",
    "\n",
    "# 欠損値の除去（オプションなしの場合、欠損値が含まれる行を削除）\n",
    "print(\"欠損値の除外（オプションなしの場合、欠損値が含まれる行を削除）\")\n",
    "df_2 = df.dropna()\n",
    "print(df_2, \"\\n\")\n",
    "\n",
    "# 欠損値の除去（'axis=1'とすると、欠損値が含まれる列を削除）\n",
    "print(\"欠損値の除外（'axis=1'とすると、欠損値が含まれる列を削除）\")\n",
    "df_3 = df.dropna(axis=1)\n",
    "print(df_3, \"\\n\")\n",
    "\n",
    "# 欠損値補完（各列の特徴量で置換した場合）\n",
    "print(\"欠損値を平均値で置換した場合\")\n",
    "df_4 = df.fillna(df.mean())\n",
    "print(df_4, \"\\n\")\n",
    "\n",
    "print(\"欠損値を中央値で置換した場合\")\n",
    "df_5 = df.fillna(df.median())\n",
    "print(df_5, \"\\n\")\n",
    "\n",
    "print(\"欠損値を最頻値で置換した場合\")\n",
    "# mode()メソッドはDataFrameが出力されるので、先頭行を取得\n",
    "df_6 = df.fillna(df.mode().iloc[0,:])\n",
    "print(df_6, \"\\n\")\n",
    "\n",
    "# 置換\n",
    "print(\"3以下でないデータを9に置換した場合\")\n",
    "df_7 = df.where(df <= 3, 9)\n",
    "print(df_7, \"\\n\")\n",
    "\n",
    "print(\"D列における3以下の行要素を全て9に置換した場合\")\n",
    "df_8 = df.mask(df[\"D\"] <= 3, 9)\n",
    "print(df_8, \"\\n\")\n",
    "\n",
    "# 重複の削除\n",
    "print(\"重複行を削除した場合\")\n",
    "print(df.drop_duplicates())"
   ]
  },
  {
   "cell_type": "markdown",
   "metadata": {},
   "source": [
    "### カテゴリ型変数の加工"
   ]
  },
  {
   "cell_type": "code",
   "execution_count": null,
   "metadata": {},
   "outputs": [],
   "source": [
    "# 欠損値を含むDataFrameの作成\n",
    "df = pd.DataFrame(\n",
    "    [\n",
    "        [0, 1, 2, \"S\"],\n",
    "        [3, 4, 5, \"M\"],\n",
    "        [6, 7, 8, \"L\"],\n",
    "        [9, 0, 1, \"M\"],\n",
    "        [2, 3, 4, \"S\"],\n",
    "        [5, 6, 7, \"L\"],\n",
    "        [8, 9, 0, \"L\"]\n",
    "    ],\n",
    "    columns=['A', 'B', 'C', 'size']\n",
    ")\n",
    "print(\"元データ\")\n",
    "print(df, \"\\n\")\n",
    "\n",
    "\n",
    "# カテゴリ型変数のダミー化\n",
    "\n",
    "print(\"カテゴリ型変数のダミー化\")\n",
    "df_2 = df.copy()\n",
    "# ダミー変数の作成\n",
    "dummy_df = pd.get_dummies(df[\"size\"])\n",
    "# ダミー変数列の追加\n",
    "df_2[dummy_df.columns] = dummy_df\n",
    "# 列'サイズ'の削除\n",
    "del df_2[\"size\"]\n",
    "print(df_2, \"\\n\")\n",
    "\n",
    "\n",
    "# カテゴリ型変数の数値化\n",
    "\n",
    "print(\"カテゴリ型変数の数値化\")\n",
    "df_3 = df.copy()\n",
    "# ダミー変数の作成（第2戻り値'indices'は対応情報'\n",
    "df_3[\"size_factorize\"], indices = pd.factorize(df_3['size'])\n",
    "# 列'サイズ'の削除\n",
    "del df_3[\"size\"]\n",
    "print(df_3)\n",
    "print('\"size\"列の数値化変換前後の対応表=\\n' + str(indices.tolist()))"
   ]
  },
  {
   "cell_type": "markdown",
   "metadata": {},
   "source": [
    "### 基本統計量の算出"
   ]
  },
  {
   "cell_type": "code",
   "execution_count": null,
   "metadata": {
    "scrolled": false
   },
   "outputs": [],
   "source": [
    "print(\"元データ\")\n",
    "print(df, \"\\n\")\n",
    "\n",
    "# 各列の基本統計量\n",
    "print('基本統計量=\\n' + str(df.describe()) + \"\\n\")\n",
    "\n",
    "# 各列の基本統計量（数値型以外の基本統計量を出力するには、オプションの指定が必要です）\n",
    "print('全データ型の基本統計量=\\n' + str(df.describe(include='all')) + \"\\n\")"
   ]
  },
  {
   "cell_type": "markdown",
   "metadata": {},
   "source": [
    "### グループごとの統計量算出"
   ]
  },
  {
   "cell_type": "code",
   "execution_count": null,
   "metadata": {},
   "outputs": [],
   "source": [
    "print('元データ\\n' + str(df) + '\\n')\n",
    "\n",
    "print('各変数における\"size\"ごとの算術平均\\n' + str(df.groupby('size').mean())+'\\n')\n",
    "group_describe = df.groupby('size').describe()\n",
    "\n",
    "columns = df.columns[:-1]\n",
    "for col in columns:\n",
    "    print('変数' + str(col) + 'における\"size\"ごとの基本統計量\\n'+ \\\n",
    "          str(group_describe[col])+'\\n')"
   ]
  },
  {
   "cell_type": "markdown",
   "metadata": {},
   "source": [
    "### Pandasのデータ可視化"
   ]
  },
  {
   "cell_type": "code",
   "execution_count": null,
   "metadata": {
    "scrolled": false
   },
   "outputs": [],
   "source": [
    "%matplotlib inline\n",
    "\n",
    "print('元データ\\n'+str(df_3)+'\\n')\n",
    "\n",
    "# 折れ線グラフ\n",
    "df_3.plot(y='A', kind='line', title='line')\n",
    "\n",
    "# 棒グラフ\n",
    "df_3.plot(y=['B','C'], kind='bar', grid=True, title='bar')\n",
    "\n",
    "# 箱ひげ図\n",
    "df_3.plot(kind='box', title='box')\n",
    "\n",
    "# 散布図（x軸にA列、yにsizeの数値化変数）\n",
    "df_3.plot(x='A', y='size_factorize', kind='scatter', grid=True, title='scatter')"
   ]
  },
  {
   "cell_type": "markdown",
   "metadata": {},
   "source": [
    "### Matplotlibによる可視化"
   ]
  },
  {
   "cell_type": "code",
   "execution_count": null,
   "metadata": {},
   "outputs": [],
   "source": [
    "import matplotlib.pyplot as plt\n",
    "\n",
    "# figに2×2の図を表示する。figのサイズは横10[inch]×縦7[inch]\n",
    "fig, axes = plt.subplots(nrows=2, ncols=2, figsize=(10, 7))\n",
    "\n",
    "# 左上部分\n",
    "axes[0,0].set_title('y = x')\n",
    "x = np.linspace(-5, 5, 100)\n",
    "axes[0,0].plot(x, x)\n",
    "\n",
    "# 右上部分\n",
    "axes[0,1].set_title('y = x^2')\n",
    "x = np.linspace(-5, 5, 100)\n",
    "axes[0,1].plot(x, x**2)\n",
    "\n",
    "# 左下部分\n",
    "axes[1,0].set_title('y = sin(x)')\n",
    "x = np.linspace(-10, 10, 100)\n",
    "axes[1,0].plot(x, np.sin(x))\n",
    "\n",
    "# 右下部分\n",
    "axes[1,1].set_title('y = cos(x)')\n",
    "x = np.linspace(-10, 10, 100)\n",
    "axes[1,1].plot(x, np.cos(x))"
   ]
  },
  {
   "cell_type": "markdown",
   "metadata": {},
   "source": [
    "### Seabornによるデータ可視化"
   ]
  },
  {
   "cell_type": "code",
   "execution_count": null,
   "metadata": {},
   "outputs": [],
   "source": [
    "import seaborn as sns\n",
    "\n",
    "# Seabornのサンプルデータセット'iris'を可視化します\n",
    "# アヤメの計測データ\n",
    "#  3品種のアヤメのがく片 (Sepal)、花弁 (Petal) の幅および長さを計測したデータ\n",
    "\n",
    "# データを読み込めない場合は、load_datasetにオプション'engine=\"python\"'を指定してください\n",
    "df = sns.load_dataset(\"iris\", engine='python') \n",
    "df.head()"
   ]
  },
  {
   "cell_type": "code",
   "execution_count": null,
   "metadata": {},
   "outputs": [],
   "source": [
    "# 散布図行列の可視化\n",
    "\n",
    "# 対角成分(i,i)のグラフは、dfi列目のヒストグラム、\n",
    "# (j,k)のグラフは、x軸にk列目、y軸にj列目を散布図として可視化します\n",
    "\n",
    "sns.pairplot(df, hue='species')"
   ]
  },
  {
   "cell_type": "markdown",
   "metadata": {},
   "source": [
    "## Scikit-learn\n",
    "#### サンプルデータセット'iris'を対象とし、線形サポートベクターマシン識別機でアヤメの品種を予測します"
   ]
  },
  {
   "cell_type": "markdown",
   "metadata": {},
   "source": [
    "### 学習用・評価用データ分割"
   ]
  },
  {
   "cell_type": "code",
   "execution_count": null,
   "metadata": {},
   "outputs": [],
   "source": [
    "from sklearn.model_selection import train_test_split\n",
    "\n",
    "df = sns.load_dataset(\"iris\", engine='python') \n",
    "print('行列サイズ=' + str(df.shape))\n",
    "\n",
    "df.head()"
   ]
  },
  {
   "cell_type": "code",
   "execution_count": null,
   "metadata": {},
   "outputs": [],
   "source": [
    "# （前処理）\n",
    "# 品種（species）に欠損値があれば、学習および評価に利用できないため、\n",
    "# データを削除する\n",
    "\n",
    "print('\"species\"の値=\\n' + str(df['species'].unique()) + '\\n')\n",
    "print('基本統計量=\\n' + str(df['species'].describe()))\n",
    "\n",
    "# 結果として欠損値はないが、あれば\n",
    "# df.dropna(subset=['species'], inplace=True)"
   ]
  },
  {
   "cell_type": "code",
   "execution_count": null,
   "metadata": {},
   "outputs": [],
   "source": [
    "# データ分割\n",
    "X_train, X_test, y_train, y_test = train_test_split(\n",
    "    df.loc[:,df.columns[:-1]], df.loc[:,df.columns[-1]],\n",
    "    test_size=1/5, random_state=0\n",
    ")"
   ]
  },
  {
   "cell_type": "code",
   "execution_count": null,
   "metadata": {},
   "outputs": [],
   "source": [
    "print('X_trainのデータサイズ:' + str(X_train.shape))\n",
    "print('X_testのデータサイズ:' + str(X_test.shape))\n",
    "print('y_trainのデータサイズ:' + str(y_train.shape))\n",
    "print('y_testのデータサイズ:' + str(y_test.shape))"
   ]
  },
  {
   "cell_type": "markdown",
   "metadata": {},
   "source": [
    "### 前処理"
   ]
  },
  {
   "cell_type": "code",
   "execution_count": null,
   "metadata": {},
   "outputs": [],
   "source": [
    "# 標準化\n",
    "from sklearn.preprocessing import StandardScaler\n",
    "scaler = StandardScaler()\n",
    "\n",
    "# 学習データの標準化\n",
    "st_X_train = scaler.fit_transform(X_train)\n",
    "# 評価データの標準化（学習データの平均・標準偏差を使用）\n",
    "st_X_test = scaler.transform(X_test)"
   ]
  },
  {
   "cell_type": "code",
   "execution_count": null,
   "metadata": {},
   "outputs": [],
   "source": [
    "print('学習データ\\n' + str(pd.DataFrame(st_X_train).describe()) + '\\n')"
   ]
  },
  {
   "cell_type": "code",
   "execution_count": null,
   "metadata": {},
   "outputs": [],
   "source": [
    "# 欠損値補完\n",
    "\n",
    "# 欠損値の確認\n",
    "# 基本統計量より、全列でminが0より大きいため、欠損値を0で表現しているわけでないことを確認\n",
    "print('\"NaN\"の件数=\\n' + str(df[:-1].isnull().sum()))\n",
    "print('\\nデータの基本統計量=\\n' + str(df[:-1].describe()))"
   ]
  },
  {
   "cell_type": "code",
   "execution_count": null,
   "metadata": {},
   "outputs": [],
   "source": [
    "# 本データに欠損値がないためスキップしたが、存在すれば以下を実行\n",
    "# from sklearn.preprocessing import Imputer\n",
    "# imp = Imputer(missing_values=np.nan, strategy='median')\n",
    "# imp.fit_transform(st_X_train)\n",
    "# imp.transform(st_X_test)"
   ]
  },
  {
   "cell_type": "markdown",
   "metadata": {},
   "source": [
    "### 予測モデルの生成・学習・予測"
   ]
  },
  {
   "cell_type": "code",
   "execution_count": null,
   "metadata": {},
   "outputs": [],
   "source": [
    "from sklearn.svm import LinearSVC\n",
    "# 線形サポートベクターマシン分類器のクラスを読込\n",
    "\n",
    "# LinearSVCクラスからsvcインスタンスを生成\n",
    "svc = LinearSVC(max_iter=1e4, random_state=0)\n",
    "# 標準化した説明変数st_X_trainと被説明変数y_trainから学習\n",
    "svc.fit(st_X_train, y_train)"
   ]
  },
  {
   "cell_type": "code",
   "execution_count": null,
   "metadata": {},
   "outputs": [],
   "source": [
    "# 予測値を得る\n",
    "y_pred = svc.predict(st_X_test)"
   ]
  },
  {
   "cell_type": "markdown",
   "metadata": {},
   "source": [
    "### モデル評価"
   ]
  },
  {
   "cell_type": "code",
   "execution_count": null,
   "metadata": {
    "scrolled": true
   },
   "outputs": [],
   "source": [
    "from sklearn.metrics import confusion_matrix, classification_report\n",
    "\n",
    "# classification_reportの出力\n",
    "# 分類タスクの評価指標を得られます\n",
    "# micro avg: 混同行列全体でTruePositiveやFalseNegative等を集計後、評価指標を算出する\n",
    "# macro avg: 各クラスで得られた評価指標の平均\n",
    "# weighted avg: データ件数の比率で重みを付けた評価指標の平均\n",
    "\n",
    "labels = df['species'].unique()\n",
    "\n",
    "print(\n",
    "    classification_report(\n",
    "        y_test, y_pred, labels=labels\n",
    "    )\n",
    ")"
   ]
  },
  {
   "cell_type": "code",
   "execution_count": null,
   "metadata": {},
   "outputs": [],
   "source": [
    "# カテゴリデータの抽出\n",
    "labels = df['species'].unique()\n",
    "# 混同行列の算出\n",
    "conf_mtx = confusion_matrix(y_test, y_pred, labels=labels)\n",
    "# 可視化\n",
    "sns.heatmap(conf_mtx, annot=True, xticklabels=labels, yticklabels=labels)"
   ]
  },
  {
   "cell_type": "markdown",
   "metadata": {},
   "source": [
    "### パラメータ調整"
   ]
  },
  {
   "cell_type": "code",
   "execution_count": null,
   "metadata": {},
   "outputs": [],
   "source": [
    "from sklearn.model_selection import GridSearchCV\n",
    "\n",
    "# 予測モデルの選択\n",
    "# 線形サポートベクターマシン識別器で、\n",
    "# パラメータ最適化の開放に双対問題の非利用、損失関数は'二乗ヒンジ損失'、\n",
    "# 不均衡データを考慮した重みづけ有り、パラメータ最適化の試行回数は最大10^5回、\n",
    "# ランダムシードを0で固定して最適化\n",
    "lsvc_gs = LinearSVC(dual=False, class_weight='balanced',\n",
    "                    tol=10-3, max_iter=1e5, random_state=0)\n",
    "\n",
    "# ハイパーパラメータの調整範囲\n",
    "# 正則化指標'penalty': 'L1ノルム'か'L2ノルム'\n",
    "# 正則化の強度'C': 10の-4乗～4乗まで、0.5乗刻み\n",
    "tuning_params = [\n",
    "    {\n",
    "        'penalty': ['l2'],\n",
    "        'loss': ['hinge'],\n",
    "        'dual': [True],\n",
    "        'C': 10.**np.arange(-4, 4.5, 0.5)\n",
    "    },\n",
    "    {\n",
    "        'penalty': ['l1'],\n",
    "        'loss': ['squared_hinge'],\n",
    "        'dual': [False],\n",
    "        'C': 10.**np.arange(-4, 4.5, 0.5)\n",
    "    },\n",
    "    {\n",
    "        'penalty': ['l2'],\n",
    "        'loss': ['squared_hinge'],\n",
    "        'dual': [True],\n",
    "        'C': 10.**np.arange(-4, 4.5, 0.5)\n",
    "    }\n",
    "]\n",
    "\n",
    "# グリッドサーチのgspmsインスタンス生成\n",
    "# 予測モデル: lsvc_gs（線形サポートベクターマシン識別器）\n",
    "# 調整するパラメータ: tuning_params\n",
    "# 交差確認法における分割ブロック数: cv\n",
    "# スコアリング方法: f1値、マイクロ平均\n",
    "# 並列処理数: n_jobs（1なら並列処理なし、-1なら全てのプロセッサ使用）\n",
    "# テストデータのサンプル数に基づくスコアへの重み付け: iid（将来、このオプションは削除される）\n",
    "# 学習データのスコア出力: return_train_score（現状のdefaultは'warm'だが、将来このオプションはFalseになる）\n",
    "gs_lsvc = GridSearchCV(\n",
    "    lsvc_gs, tuning_params,\n",
    "    cv=10, scoring='f1_micro', n_jobs=1, \n",
    "    iid=False, return_train_score=False\n",
    ")"
   ]
  },
  {
   "cell_type": "code",
   "execution_count": null,
   "metadata": {},
   "outputs": [],
   "source": [
    "# グリッドサーチの実施\n",
    "\n",
    "gs_lsvc.fit(st_X_train, y_train)"
   ]
  },
  {
   "cell_type": "code",
   "execution_count": null,
   "metadata": {
    "scrolled": true
   },
   "outputs": [],
   "source": [
    "# 交差検証の結果（cv_results_属性）をDataFrameとして表示\n",
    "# 平均精度を降順に並べ替え\n",
    "\n",
    "gs_results = pd.DataFrame(gs_lsvc.cv_results_)\n",
    "gs_results.sort_values('mean_test_score', ascending=False)"
   ]
  },
  {
   "cell_type": "code",
   "execution_count": null,
   "metadata": {},
   "outputs": [],
   "source": [
    "print('gs_resultsのサイズ: ' + str(gs_results.shape))\n",
    "print('最良平均精度: ' + str(gs_results.loc[gs_results.index[0],'mean_test_score']))"
   ]
  },
  {
   "cell_type": "code",
   "execution_count": null,
   "metadata": {
    "scrolled": true
   },
   "outputs": [],
   "source": [
    "# 最適パラメータの確認（best_estimator_属性）\n",
    "\n",
    "# 交差検証の結果、正則化指標'penalty'はL2ノルム'、\n",
    "# 正則化の強度'C'は10の-1.5乗、損失関数'loss'は'二乗ヒンジ損失'\n",
    "# の組み合わせが最適であるという結果得る\n",
    "\n",
    "gs_lsvc.best_estimator_"
   ]
  },
  {
   "cell_type": "code",
   "execution_count": null,
   "metadata": {},
   "outputs": [],
   "source": [
    "# 判別超平面の係数の可視化\n",
    "\n",
    "# DataFrameに格納\n",
    "coefs = pd.DataFrame(\n",
    "    gs_lsvc.best_estimator_.coef_,\n",
    "    columns=df.columns[:-1]\n",
    ")\n",
    "coefs['intercept'] = gs_lsvc.best_estimator_.intercept_\n",
    "\n",
    "# DataFrameの可視化\n",
    "coefs.T.plot(y=coefs.index, kind='bar', title='coefficients', grid=True)"
   ]
  },
  {
   "cell_type": "code",
   "execution_count": null,
   "metadata": {},
   "outputs": [],
   "source": [
    "# 予測値の取得\n",
    "\n",
    "y_pred = gs_lsvc.predict(st_X_test)"
   ]
  },
  {
   "cell_type": "code",
   "execution_count": null,
   "metadata": {
    "scrolled": false
   },
   "outputs": [],
   "source": [
    "# 予測精度\n",
    "\n",
    "# 当初のモデル（C=1.0, penalty='l2', loss='squared_hinge'）と比較して、\n",
    "# 精度はほとんど変わらなかった（versicolorをversinicaと誤って予測するデータが\n",
    "# 2件増加した）\n",
    "\n",
    "# classification_reportの出力\n",
    "print(classification_report(y_test, y_pred, labels=labels))\n",
    "\n",
    "# 混同行列の算出\n",
    "conf_mtx = confusion_matrix(y_test, y_pred, labels=labels)\n",
    "# 可視化\n",
    "sns.heatmap(conf_mtx, annot=True, xticklabels=labels, yticklabels=labels)"
   ]
  },
  {
   "cell_type": "markdown",
   "metadata": {},
   "source": [
    "## 補足\n",
    "ご質問事項のpandasでの表示件数を増やすやり方について"
   ]
  },
  {
   "cell_type": "code",
   "execution_count": null,
   "metadata": {},
   "outputs": [],
   "source": [
    "#デフォルトの設定では上下5件ずつを表示\n",
    "\n",
    "import seaborn as sns\n",
    "df = sns.load_dataset(\"iris\", engine='python') \n",
    "df"
   ]
  },
  {
   "cell_type": "code",
   "execution_count": null,
   "metadata": {},
   "outputs": [],
   "source": [
    "#set_optionで表示件数を変更\n",
    "#参考：https://pandas.pydata.org/pandas-docs/stable/reference/api/pandas.set_option.html\n",
    "pd.set_option('display.max_rows', 200)\n",
    "df"
   ]
  }
 ],
 "metadata": {
  "kernelspec": {
   "display_name": "Python 3",
   "language": "python",
   "name": "python3"
  },
  "language_info": {
   "codemirror_mode": {
    "name": "ipython",
    "version": 3
   },
   "file_extension": ".py",
   "mimetype": "text/x-python",
   "name": "python",
   "nbconvert_exporter": "python",
   "pygments_lexer": "ipython3",
   "version": "3.7.6"
  }
 },
 "nbformat": 4,
 "nbformat_minor": 2
}
